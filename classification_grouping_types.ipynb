{
  "nbformat": 4,
  "nbformat_minor": 0,
  "metadata": {
    "colab": {
      "provenance": [],
      "authorship_tag": "ABX9TyOwhYps2+P3Yz51LxAuG/FE",
      "include_colab_link": true
    },
    "kernelspec": {
      "name": "python3",
      "display_name": "Python 3"
    },
    "language_info": {
      "name": "python"
    }
  },
  "cells": [
    {
      "cell_type": "markdown",
      "metadata": {
        "id": "view-in-github",
        "colab_type": "text"
      },
      "source": [
        "<a href=\"https://colab.research.google.com/github/dorinhazan/FinalProject-DataScience/blob/main/classification_grouping_types.ipynb\" target=\"_parent\"><img src=\"https://colab.research.google.com/assets/colab-badge.svg\" alt=\"Open In Colab\"/></a>"
      ]
    },
    {
      "cell_type": "code",
      "source": [
        "import openai\n",
        "import zipfile\n",
        "import json\n",
        "import os"
      ],
      "metadata": {
        "id": "dsdIkZocIcwQ"
      },
      "execution_count": null,
      "outputs": []
    },
    {
      "cell_type": "code",
      "execution_count": null,
      "metadata": {
        "id": "aX3QUVycYhLZ"
      },
      "outputs": [],
      "source": [
        "!pip install openai"
      ]
    },
    {
      "cell_type": "code",
      "source": [
        "!pip install --upgrade openai"
      ],
      "metadata": {
        "id": "p2HnWNG9IXAe"
      },
      "execution_count": null,
      "outputs": []
    },
    {
      "cell_type": "code",
      "source": [
        "openai.api_key = \"\""
      ],
      "metadata": {
        "id": "CkYIhUcEIbN4"
      },
      "execution_count": null,
      "outputs": []
    },
    {
      "cell_type": "code",
      "source": [
        "# 1. Update these paths\n",
        "zip_path        = '/content/json_results.zip'\n",
        "extract_dir     = 'extracted_jsons'\n",
        "merged_json_path = 'merged_results.json'\n",
        "\n",
        "# 2. Extract JSON files\n",
        "with zipfile.ZipFile(zip_path, 'r') as zf:\n",
        "    zf.extractall(extract_dir)\n",
        "\n",
        "# 3. Merge into one dictionary, extending duplicates’ observables\n",
        "merged = {}\n",
        "for filename in os.listdir(extract_dir):\n",
        "    # only process .json files\n",
        "    if not filename.lower().endswith('.json'):\n",
        "        continue\n",
        "\n",
        "    full_path = os.path.join(extract_dir, filename)\n",
        "    with open(full_path, 'r') as f:\n",
        "        data = json.load(f)\n",
        "\n",
        "    for md_name, doc in data.items():\n",
        "        if md_name not in merged:\n",
        "            merged[md_name] = doc\n",
        "        else:\n",
        "            # extend observables list from both\n",
        "            merged[md_name][\"observables\"].extend(doc.get(\"observables\", []))\n",
        "            # you can merge other fields here if needed\n",
        "\n",
        "# 4. Save the merged JSON\n",
        "with open(merged_json_path, 'w') as f:\n",
        "    json.dump(merged, f, indent=2)\n"
      ],
      "metadata": {
        "id": "c1sBAQkEIf1x"
      },
      "execution_count": null,
      "outputs": []
    },
    {
      "cell_type": "code",
      "source": [
        "\n",
        "# 5. Extract, lowercase, and dedupe classification values\n",
        "unique_classifications = {\n",
        "    obs['classification'].lower()\n",
        "    for doc in merged.values()\n",
        "    for obs in doc.get('observables', [])\n",
        "    if 'classification' in obs\n",
        "}"
      ],
      "metadata": {
        "id": "lX-6rcQ3IgXz"
      },
      "execution_count": null,
      "outputs": []
    },
    {
      "cell_type": "code",
      "source": [
        "gross_classifications = set([\"Reconnaissance\",\n",
        "  \"Resource Development\",\n",
        "  \"Initial Access\",\n",
        "  \"Execution\",\n",
        "  \"Persistence\",\n",
        "  \"Privilege Escalation\",\n",
        "  \"Defense Evasion\",\n",
        "  \"Credential Access\",\n",
        "  \"Discovery\",\n",
        "  \"Lateral Movement\",\n",
        "  \"Collection\",\n",
        "  \"Command and Control\",\n",
        "  \"Exfiltration\",\n",
        "  \"Impact\"])"
      ],
      "metadata": {
        "id": "1n3QQILtIjC0"
      },
      "execution_count": null,
      "outputs": []
    },
    {
      "cell_type": "code",
      "source": [
        "# 3. Build the prompt\n",
        "prompt = f\"\"\"\n",
        "I am a cybersecurity analyst. I have the following set of unique classification values of observables:\n",
        "\n",
        "{sorted(unique_classifications)}\n",
        "\n",
        "Please assign each of these classification values to exactly one of the MITRE ATT&CK® Enterprise tactic categories (the “gross classifications”):\n",
        "\n",
        "{sorted(gross_classifications)}\n",
        "\n",
        "If a value does not belong to any of these tactics, assign it under a new category called \"Other – new\".\n",
        "\n",
        "Respond with a single JSON object where each key is a tactic name (or \"Other – new\") and the value is a list of the classification strings assigned to it.\n",
        "\"\"\"\n"
      ],
      "metadata": {
        "id": "yhVtjRmUIk2l"
      },
      "execution_count": null,
      "outputs": []
    },
    {
      "cell_type": "code",
      "source": [
        "!pip install openai==0.28"
      ],
      "metadata": {
        "id": "d3asVr8tImr3"
      },
      "execution_count": null,
      "outputs": []
    },
    {
      "cell_type": "code",
      "source": [
        "# 4. Call ChatGPT with model o3-mini-high\n",
        "response = openai.ChatCompletion.create(\n",
        "    model=\"o3-mini-2025-01-31\",\n",
        "    messages=[\n",
        "        {\"role\": \"system\", \"content\": \"You are a helpful cybersecurity expert.\"},\n",
        "        {\"role\": \"user\", \"content\": prompt}\n",
        "    ],\n",
        ")\n",
        "\n",
        "# 5. Print the JSON response\n",
        "print(response.choices[0].message.content)"
      ],
      "metadata": {
        "id": "7q4vsN_vIoTY"
      },
      "execution_count": null,
      "outputs": []
    }
  ]
}