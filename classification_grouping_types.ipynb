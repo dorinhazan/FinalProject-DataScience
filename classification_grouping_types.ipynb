{
  "nbformat": 4,
  "nbformat_minor": 0,
  "metadata": {
    "colab": {
      "provenance": [],
      "authorship_tag": "ABX9TyNJsv/gb5S4jhlZYTe9uHBi",
      "include_colab_link": true
    },
    "kernelspec": {
      "name": "python3",
      "display_name": "Python 3"
    },
    "language_info": {
      "name": "python"
    }
  },
  "cells": [
    {
      "cell_type": "markdown",
      "metadata": {
        "id": "view-in-github",
        "colab_type": "text"
      },
      "source": [
        "<a href=\"https://colab.research.google.com/github/dorinhazan/FinalProject-DataScience/blob/main/classification_grouping_types.ipynb\" target=\"_parent\"><img src=\"https://colab.research.google.com/assets/colab-badge.svg\" alt=\"Open In Colab\"/></a>"
      ]
    },
    {
      "cell_type": "code",
      "source": [
        "import openai\n",
        "import zipfile\n",
        "import json\n",
        "import os"
      ],
      "metadata": {
        "id": "dsdIkZocIcwQ"
      },
      "execution_count": null,
      "outputs": []
    },
    {
      "cell_type": "code",
      "execution_count": null,
      "metadata": {
        "id": "aX3QUVycYhLZ"
      },
      "outputs": [],
      "source": [
        "!pip install openai"
      ]
    },
    {
      "cell_type": "code",
      "source": [
        "!pip install --upgrade openai"
      ],
      "metadata": {
        "id": "p2HnWNG9IXAe"
      },
      "execution_count": null,
      "outputs": []
    },
    {
      "cell_type": "code",
      "source": [
        "openai.api_key = \"\""
      ],
      "metadata": {
        "id": "CkYIhUcEIbN4"
      },
      "execution_count": null,
      "outputs": []
    },
    {
      "cell_type": "code",
      "source": [
        "# 1. Update these paths\n",
        "zip_path        = '/content/json_results.zip'\n",
        "extract_dir     = 'extracted_jsons'\n",
        "merged_json_path = 'merged_results.json'\n",
        "\n",
        "# 2. Extract JSON files\n",
        "with zipfile.ZipFile(zip_path, 'r') as zf:\n",
        "    zf.extractall(extract_dir)\n",
        "\n",
        "# 3. Merge into one dictionary, extending duplicates’ observables\n",
        "merged = {}\n",
        "for filename in os.listdir(extract_dir):\n",
        "    # only process .json files\n",
        "    if not filename.lower().endswith('.json'):\n",
        "        continue\n",
        "\n",
        "    full_path = os.path.join(extract_dir, filename)\n",
        "    with open(full_path, 'r') as f:\n",
        "        data = json.load(f)\n",
        "\n",
        "    for md_name, doc in data.items():\n",
        "        if md_name not in merged:\n",
        "            merged[md_name] = doc\n",
        "        else:\n",
        "            # extend observables list from both\n",
        "            merged[md_name][\"observables\"].extend(doc.get(\"observables\", []))\n",
        "            # you can merge other fields here if needed\n",
        "\n",
        "# 4. Save the merged JSON\n",
        "with open(merged_json_path, 'w') as f:\n",
        "    json.dump(merged, f, indent=2)"
      ],
      "metadata": {
        "id": "c1sBAQkEIf1x"
      },
      "execution_count": null,
      "outputs": []
    },
    {
      "cell_type": "code",
      "source": [
        "# Extract, lowercase, and dedupe classification values\n",
        "unique_classifications = {\n",
        "    obs['classification'].lower()\n",
        "    for doc in merged.values()\n",
        "    for obs in doc.get('observables', [])\n",
        "    if 'classification' in obs\n",
        "}"
      ],
      "metadata": {
        "id": "lX-6rcQ3IgXz"
      },
      "execution_count": null,
      "outputs": []
    },
    {
      "cell_type": "code",
      "source": [
        "gross_classifications = set([\n",
        "\"System\",\n",
        "\"Module\",\n",
        "\"Hardware\",\n",
        "\"Device\",\n",
        "\"PLC\",\n",
        "\"POU\",\n",
        "\"Identifier\",\n",
        "\"Information\",\n",
        "\"Credential\",\n",
        "\"Data\",\n",
        "\"Command\",\n",
        "\"API\",\n",
        "\"Code\",\n",
        "\"Process\",\n",
        "\"Configuration\",\n",
        "\"Log\",\n",
        "\"File\",\n",
        "\"Payload\",\n",
        "\"Software\",\n",
        "\"Service\",\n",
        "\"Firmware\",\n",
        "\"Server\",\n",
        "\"Communication\",\n",
        "\"Protocol\",\n",
        "\"Protocol Field\",\n",
        "\"Connection Port\",\n",
        "\"Vulnerability\",\n",
        "\"Attack Technique\"])"
      ],
      "metadata": {
        "id": "1n3QQILtIjC0"
      },
      "execution_count": 2,
      "outputs": []
    },
    {
      "cell_type": "code",
      "source": [
        "prompt = f\"\"\"\n",
        "You are a cybersecurity analyst expert. Your job is to group a list of observable “classification” labels under gross classifications from MITRE ATT&CK® Enterprise, or if not matched to any gross classification - create a new category of gross classification.\n",
        "\n",
        "---\n",
        "### Input\n",
        "   - A set of unique observable classifications:\n",
        "     {sorted(unique_classifications)}\n",
        "\n",
        "   - A set of gross classifications from MITRE ATT&CK® Enterprise:\n",
        "     {sorted(gross_classifications)}\n",
        "\n",
        "---\n",
        "### Task\n",
        "   - For each unique observable classifications, choose exactly one gross classification it best fits.\n",
        "   - If it does not clearly belong to any of the gross classification labels given, assign it to a new category of your own choosing, appending “– new” to that category name (e.g. “Data Management – new”).\n",
        "\n",
        "---\n",
        "### Output\n",
        "   - Return **only** a single JSON object.\n",
        "   - Each key must be either one of the 28 gross classification label names or one of your “– new” categories.\n",
        "   - Each value must be an array of the unique observable classifications assigned to that key.\n",
        "\n",
        "---\n",
        "### Response format (return *only* this JSON)\n",
        "\n",
        "```json\n",
        "{\n",
        "  \"Code\": [\n",
        "    \"script file\"\n",
        "  ],\n",
        "  \"Command\": [\n",
        "    \"command string\"\n",
        "  ],\n",
        "  \"Identifier\": [\n",
        "    \"ip address\",\n",
        "    \"domain\"\n",
        "  ],\n",
        "  \"Data\": [\n",
        "    \"file format\",\n",
        "    \"file signature\"\n",
        "  ]\n",
        "}\n",
        "\n",
        "\"\"\""
      ],
      "metadata": {
        "id": "yhVtjRmUIk2l"
      },
      "execution_count": null,
      "outputs": []
    },
    {
      "cell_type": "code",
      "source": [
        "!pip install openai==0.28"
      ],
      "metadata": {
        "id": "d3asVr8tImr3"
      },
      "execution_count": null,
      "outputs": []
    },
    {
      "cell_type": "code",
      "source": [
        "# 4. Call ChatGPT with model o3-mini-high\n",
        "response = openai.ChatCompletion.create(\n",
        "    model=\"o3-mini-2025-01-31\",\n",
        "    messages=[\n",
        "        {\"role\": \"system\", \"content\": \"You are a helpful cybersecurity expert.\"},\n",
        "        {\"role\": \"user\", \"content\": prompt}\n",
        "    ],\n",
        ")\n",
        "\n",
        "# 5. Print the JSON response\n",
        "print(response.choices[0].message.content)"
      ],
      "metadata": {
        "id": "7q4vsN_vIoTY"
      },
      "execution_count": null,
      "outputs": []
    }
  ]
}