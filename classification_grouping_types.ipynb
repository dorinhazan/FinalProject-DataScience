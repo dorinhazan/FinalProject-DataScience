{
  "nbformat": 4,
  "nbformat_minor": 0,
  "metadata": {
    "colab": {
      "provenance": [],
      "include_colab_link": true
    },
    "kernelspec": {
      "name": "python3",
      "display_name": "Python 3"
    },
    "language_info": {
      "name": "python"
    }
  },
  "cells": [
    {
      "cell_type": "markdown",
      "metadata": {
        "id": "view-in-github",
        "colab_type": "text"
      },
      "source": [
        "<a href=\"https://colab.research.google.com/github/dorinhazan/FinalProject-DataScience/blob/main/classification_grouping_types.ipynb\" target=\"_parent\"><img src=\"https://colab.research.google.com/assets/colab-badge.svg\" alt=\"Open In Colab\"/></a>"
      ]
    },
    {
      "cell_type": "code",
      "source": [
        "import openai\n",
        "import zipfile\n",
        "import json\n",
        "import os\n",
        "import json"
      ],
      "metadata": {
        "id": "dsdIkZocIcwQ"
      },
      "execution_count": 1,
      "outputs": []
    },
    {
      "cell_type": "code",
      "execution_count": 2,
      "metadata": {
        "id": "aX3QUVycYhLZ",
        "outputId": "9ab0203e-efcf-47d1-a0f5-35464e5e62c7",
        "colab": {
          "base_uri": "https://localhost:8080/"
        }
      },
      "outputs": [
        {
          "output_type": "stream",
          "name": "stdout",
          "text": [
            "Requirement already satisfied: openai in /usr/local/lib/python3.11/dist-packages (1.81.0)\n",
            "Requirement already satisfied: anyio<5,>=3.5.0 in /usr/local/lib/python3.11/dist-packages (from openai) (4.9.0)\n",
            "Requirement already satisfied: distro<2,>=1.7.0 in /usr/local/lib/python3.11/dist-packages (from openai) (1.9.0)\n",
            "Requirement already satisfied: httpx<1,>=0.23.0 in /usr/local/lib/python3.11/dist-packages (from openai) (0.28.1)\n",
            "Requirement already satisfied: jiter<1,>=0.4.0 in /usr/local/lib/python3.11/dist-packages (from openai) (0.9.0)\n",
            "Requirement already satisfied: pydantic<3,>=1.9.0 in /usr/local/lib/python3.11/dist-packages (from openai) (2.11.4)\n",
            "Requirement already satisfied: sniffio in /usr/local/lib/python3.11/dist-packages (from openai) (1.3.1)\n",
            "Requirement already satisfied: tqdm>4 in /usr/local/lib/python3.11/dist-packages (from openai) (4.67.1)\n",
            "Requirement already satisfied: typing-extensions<5,>=4.11 in /usr/local/lib/python3.11/dist-packages (from openai) (4.13.2)\n",
            "Requirement already satisfied: idna>=2.8 in /usr/local/lib/python3.11/dist-packages (from anyio<5,>=3.5.0->openai) (3.10)\n",
            "Requirement already satisfied: certifi in /usr/local/lib/python3.11/dist-packages (from httpx<1,>=0.23.0->openai) (2025.4.26)\n",
            "Requirement already satisfied: httpcore==1.* in /usr/local/lib/python3.11/dist-packages (from httpx<1,>=0.23.0->openai) (1.0.9)\n",
            "Requirement already satisfied: h11>=0.16 in /usr/local/lib/python3.11/dist-packages (from httpcore==1.*->httpx<1,>=0.23.0->openai) (0.16.0)\n",
            "Requirement already satisfied: annotated-types>=0.6.0 in /usr/local/lib/python3.11/dist-packages (from pydantic<3,>=1.9.0->openai) (0.7.0)\n",
            "Requirement already satisfied: pydantic-core==2.33.2 in /usr/local/lib/python3.11/dist-packages (from pydantic<3,>=1.9.0->openai) (2.33.2)\n",
            "Requirement already satisfied: typing-inspection>=0.4.0 in /usr/local/lib/python3.11/dist-packages (from pydantic<3,>=1.9.0->openai) (0.4.0)\n"
          ]
        }
      ],
      "source": [
        "!pip install openai"
      ]
    },
    {
      "cell_type": "code",
      "source": [
        "!pip install --upgrade openai"
      ],
      "metadata": {
        "id": "p2HnWNG9IXAe",
        "outputId": "85304eb9-559c-4977-9ce7-96843d576efb",
        "colab": {
          "base_uri": "https://localhost:8080/"
        }
      },
      "execution_count": 3,
      "outputs": [
        {
          "output_type": "stream",
          "name": "stdout",
          "text": [
            "Requirement already satisfied: openai in /usr/local/lib/python3.11/dist-packages (1.81.0)\n",
            "Requirement already satisfied: anyio<5,>=3.5.0 in /usr/local/lib/python3.11/dist-packages (from openai) (4.9.0)\n",
            "Requirement already satisfied: distro<2,>=1.7.0 in /usr/local/lib/python3.11/dist-packages (from openai) (1.9.0)\n",
            "Requirement already satisfied: httpx<1,>=0.23.0 in /usr/local/lib/python3.11/dist-packages (from openai) (0.28.1)\n",
            "Requirement already satisfied: jiter<1,>=0.4.0 in /usr/local/lib/python3.11/dist-packages (from openai) (0.9.0)\n",
            "Requirement already satisfied: pydantic<3,>=1.9.0 in /usr/local/lib/python3.11/dist-packages (from openai) (2.11.4)\n",
            "Requirement already satisfied: sniffio in /usr/local/lib/python3.11/dist-packages (from openai) (1.3.1)\n",
            "Requirement already satisfied: tqdm>4 in /usr/local/lib/python3.11/dist-packages (from openai) (4.67.1)\n",
            "Requirement already satisfied: typing-extensions<5,>=4.11 in /usr/local/lib/python3.11/dist-packages (from openai) (4.13.2)\n",
            "Requirement already satisfied: idna>=2.8 in /usr/local/lib/python3.11/dist-packages (from anyio<5,>=3.5.0->openai) (3.10)\n",
            "Requirement already satisfied: certifi in /usr/local/lib/python3.11/dist-packages (from httpx<1,>=0.23.0->openai) (2025.4.26)\n",
            "Requirement already satisfied: httpcore==1.* in /usr/local/lib/python3.11/dist-packages (from httpx<1,>=0.23.0->openai) (1.0.9)\n",
            "Requirement already satisfied: h11>=0.16 in /usr/local/lib/python3.11/dist-packages (from httpcore==1.*->httpx<1,>=0.23.0->openai) (0.16.0)\n",
            "Requirement already satisfied: annotated-types>=0.6.0 in /usr/local/lib/python3.11/dist-packages (from pydantic<3,>=1.9.0->openai) (0.7.0)\n",
            "Requirement already satisfied: pydantic-core==2.33.2 in /usr/local/lib/python3.11/dist-packages (from pydantic<3,>=1.9.0->openai) (2.33.2)\n",
            "Requirement already satisfied: typing-inspection>=0.4.0 in /usr/local/lib/python3.11/dist-packages (from pydantic<3,>=1.9.0->openai) (0.4.0)\n"
          ]
        }
      ]
    },
    {
      "cell_type": "code",
      "source": [
        "!pip install striprtf --quiet"
      ],
      "metadata": {
        "id": "CkYIhUcEIbN4"
      },
      "execution_count": 5,
      "outputs": []
    },
    {
      "cell_type": "code",
      "source": [
        "import os\n",
        "from striprtf.striprtf import rtf_to_text\n",
        "\n",
        "# 1) Load the raw RTF\n",
        "with open(\"token_api_final_proj.rtf\", \"r\", encoding=\"utf-8\") as f:\n",
        "    rtf = f.read()\n",
        "\n",
        "# 2) Convert to plain text and strip whitespace\n",
        "key = rtf_to_text(rtf).strip()\n",
        "\n",
        "# 3) Export into os.environ\n",
        "os.environ[\"OPENAI_API_KEY\"] = key\n",
        "\n",
        "# 4) Verify\n",
        "print(\"✅ OPENAI_API_KEY loaded:\", bool(os.getenv(\"OPENAI_API_KEY\")))"
      ],
      "metadata": {
        "id": "ij9SNWbz_WJA",
        "outputId": "37356e94-df68-41a9-d4e5-a4734bb79cf8",
        "colab": {
          "base_uri": "https://localhost:8080/"
        }
      },
      "execution_count": 4,
      "outputs": [
        {
          "output_type": "stream",
          "name": "stdout",
          "text": [
            "✅ OPENAI_API_KEY loaded: True\n"
          ]
        }
      ]
    },
    {
      "cell_type": "code",
      "source": [
        "merged_ranking_path = \"merged_ranking.txt\"\n",
        "ranking_res_zip = \"/content/ranking_results.zip\"\n",
        "\n",
        "with zipfile.ZipFile(ranking_res_zip, 'r') as z, open(merged_ranking_path, 'w', encoding='utf-8') as out:\n",
        "    for info in z.infolist():\n",
        "        if info.filename.endswith('.txt'):\n",
        "            out.write(f\"===== {info.filename} =====\\n\")\n",
        "            with z.open(info) as f:\n",
        "                for raw in f:\n",
        "                    out.write(raw.decode('utf-8', errors='replace'))\n",
        "            out.write(\"\\n\\n\")\n",
        "\n",
        "print(f\"Done — all .txt merged into `{merged_ranking_path}`\")\n"
      ],
      "metadata": {
        "id": "5Vlc-kLBY2D2",
        "outputId": "094bd6dd-309f-4be5-f681-4c2661c6ff9a",
        "colab": {
          "base_uri": "https://localhost:8080/",
          "height": 349
        }
      },
      "execution_count": 7,
      "outputs": [
        {
          "output_type": "error",
          "ename": "FileNotFoundError",
          "evalue": "[Errno 2] No such file or directory: '/content/ranking_results.zip'",
          "traceback": [
            "\u001b[0;31m---------------------------------------------------------------------------\u001b[0m",
            "\u001b[0;31mFileNotFoundError\u001b[0m                         Traceback (most recent call last)",
            "\u001b[0;32m<ipython-input-7-c90d683d6498>\u001b[0m in \u001b[0;36m<cell line: 0>\u001b[0;34m()\u001b[0m\n\u001b[1;32m      2\u001b[0m \u001b[0mranking_res_zip\u001b[0m \u001b[0;34m=\u001b[0m \u001b[0;34m\"/content/ranking_results.zip\"\u001b[0m\u001b[0;34m\u001b[0m\u001b[0;34m\u001b[0m\u001b[0m\n\u001b[1;32m      3\u001b[0m \u001b[0;34m\u001b[0m\u001b[0m\n\u001b[0;32m----> 4\u001b[0;31m \u001b[0;32mwith\u001b[0m \u001b[0mzipfile\u001b[0m\u001b[0;34m.\u001b[0m\u001b[0mZipFile\u001b[0m\u001b[0;34m(\u001b[0m\u001b[0mranking_res_zip\u001b[0m\u001b[0;34m,\u001b[0m \u001b[0;34m'r'\u001b[0m\u001b[0;34m)\u001b[0m \u001b[0;32mas\u001b[0m \u001b[0mz\u001b[0m\u001b[0;34m,\u001b[0m \u001b[0mopen\u001b[0m\u001b[0;34m(\u001b[0m\u001b[0mmerged_ranking_path\u001b[0m\u001b[0;34m,\u001b[0m \u001b[0;34m'w'\u001b[0m\u001b[0;34m,\u001b[0m \u001b[0mencoding\u001b[0m\u001b[0;34m=\u001b[0m\u001b[0;34m'utf-8'\u001b[0m\u001b[0;34m)\u001b[0m \u001b[0;32mas\u001b[0m \u001b[0mout\u001b[0m\u001b[0;34m:\u001b[0m\u001b[0;34m\u001b[0m\u001b[0;34m\u001b[0m\u001b[0m\n\u001b[0m\u001b[1;32m      5\u001b[0m     \u001b[0;32mfor\u001b[0m \u001b[0minfo\u001b[0m \u001b[0;32min\u001b[0m \u001b[0mz\u001b[0m\u001b[0;34m.\u001b[0m\u001b[0minfolist\u001b[0m\u001b[0;34m(\u001b[0m\u001b[0;34m)\u001b[0m\u001b[0;34m:\u001b[0m\u001b[0;34m\u001b[0m\u001b[0;34m\u001b[0m\u001b[0m\n\u001b[1;32m      6\u001b[0m         \u001b[0;32mif\u001b[0m \u001b[0minfo\u001b[0m\u001b[0;34m.\u001b[0m\u001b[0mfilename\u001b[0m\u001b[0;34m.\u001b[0m\u001b[0mendswith\u001b[0m\u001b[0;34m(\u001b[0m\u001b[0;34m'.txt'\u001b[0m\u001b[0;34m)\u001b[0m\u001b[0;34m:\u001b[0m\u001b[0;34m\u001b[0m\u001b[0;34m\u001b[0m\u001b[0m\n",
            "\u001b[0;32m/usr/lib/python3.11/zipfile.py\u001b[0m in \u001b[0;36m__init__\u001b[0;34m(self, file, mode, compression, allowZip64, compresslevel, strict_timestamps, metadata_encoding)\u001b[0m\n\u001b[1;32m   1293\u001b[0m             \u001b[0;32mwhile\u001b[0m \u001b[0;32mTrue\u001b[0m\u001b[0;34m:\u001b[0m\u001b[0;34m\u001b[0m\u001b[0;34m\u001b[0m\u001b[0m\n\u001b[1;32m   1294\u001b[0m                 \u001b[0;32mtry\u001b[0m\u001b[0;34m:\u001b[0m\u001b[0;34m\u001b[0m\u001b[0;34m\u001b[0m\u001b[0m\n\u001b[0;32m-> 1295\u001b[0;31m                     \u001b[0mself\u001b[0m\u001b[0;34m.\u001b[0m\u001b[0mfp\u001b[0m \u001b[0;34m=\u001b[0m \u001b[0mio\u001b[0m\u001b[0;34m.\u001b[0m\u001b[0mopen\u001b[0m\u001b[0;34m(\u001b[0m\u001b[0mfile\u001b[0m\u001b[0;34m,\u001b[0m \u001b[0mfilemode\u001b[0m\u001b[0;34m)\u001b[0m\u001b[0;34m\u001b[0m\u001b[0;34m\u001b[0m\u001b[0m\n\u001b[0m\u001b[1;32m   1296\u001b[0m                 \u001b[0;32mexcept\u001b[0m \u001b[0mOSError\u001b[0m\u001b[0;34m:\u001b[0m\u001b[0;34m\u001b[0m\u001b[0;34m\u001b[0m\u001b[0m\n\u001b[1;32m   1297\u001b[0m                     \u001b[0;32mif\u001b[0m \u001b[0mfilemode\u001b[0m \u001b[0;32min\u001b[0m \u001b[0mmodeDict\u001b[0m\u001b[0;34m:\u001b[0m\u001b[0;34m\u001b[0m\u001b[0;34m\u001b[0m\u001b[0m\n",
            "\u001b[0;31mFileNotFoundError\u001b[0m: [Errno 2] No such file or directory: '/content/ranking_results.zip'"
          ]
        }
      ]
    },
    {
      "cell_type": "code",
      "source": [
        "# 1. Update these paths\n",
        "obs_res_zip        = '/content/json_results.zip'\n",
        "extract_dir     = '/content/extracted_jsons/json_results'\n",
        "merged_json_path = 'merged_obs_extraction.json'\n",
        "\n",
        "# 2. Extract JSON files\n",
        "with zipfile.ZipFile(obs_res_zip, 'r') as zf:\n",
        "    zf.extractall(extract_dir)\n",
        "\n",
        "# 3. Merge into one dictionary, extending duplicates’ observables\n",
        "merged = {}\n",
        "for filename in os.listdir(extract_dir):\n",
        "    # only process .json files\n",
        "    if not filename.lower().endswith('.json'):\n",
        "        continue\n",
        "\n",
        "    full_path = os.path.join(extract_dir, filename)\n",
        "    with open(full_path, 'r') as f:\n",
        "        data = json.load(f)\n",
        "\n",
        "    for md_name, doc in data.items():\n",
        "        if md_name not in merged:\n",
        "            merged[md_name] = doc\n",
        "        else:\n",
        "            # extend observables list from both\n",
        "            merged[md_name][\"observables\"].extend(doc.get(\"observables\", []))\n",
        "            # you can merge other fields here if needed\n",
        "\n",
        "# 4. Save the merged JSON\n",
        "with open(merged_json_path, 'w') as f:\n",
        "    json.dump(merged, f, indent=2)"
      ],
      "metadata": {
        "id": "c1sBAQkEIf1x"
      },
      "execution_count": null,
      "outputs": []
    },
    {
      "cell_type": "code",
      "source": [
        "# Suppose your file was named “data.json”\n",
        "with open('merged_obs_extraction.json','r') as f:\n",
        "    merged_obs_extraction = json.load(f)"
      ],
      "metadata": {
        "id": "SUQRxhyCz4DE"
      },
      "execution_count": 5,
      "outputs": []
    },
    {
      "cell_type": "code",
      "source": [
        "# Extract, lowercase, and dedupe classification values\n",
        "unique_classifications = {\n",
        "    obs['classification'].lower()\n",
        "    for doc in merged_obs_extraction.values()\n",
        "    for obs in doc.get('observables', [])\n",
        "    if 'classification' in obs\n",
        "}"
      ],
      "metadata": {
        "id": "lX-6rcQ3IgXz"
      },
      "execution_count": 6,
      "outputs": []
    },
    {
      "cell_type": "code",
      "source": [
        "unique_classifications.update(['api',\n",
        " 'api call',\n",
        " 'api function',\n",
        " 'api hook',\n",
        " 'archive file',\n",
        " 'attack effect',\n",
        " 'attack technique',\n",
        " 'authentication credential',\n",
        " 'authentication technique',\n",
        " 'boot record',\n",
        " 'c2 server',\n",
        " 'circuit breaker',\n",
        " 'code snippet',\n",
        " 'command',\n",
        " 'command line argument',\n",
        " 'command message',\n",
        " 'command parameters',\n",
        " 'command sequence',\n",
        " 'command value',\n",
        " 'command/utility',\n",
        " 'communication channel',\n",
        " 'communication interface',\n",
        " 'communication port',\n",
        " 'communication priority level',\n",
        " 'communication protocol',\n",
        " 'config/data file',\n",
        " 'configuration data',\n",
        " 'configuration file',\n",
        " 'configuration parameter',\n",
        " 'credential',\n",
        " 'credential list',\n",
        " 'data',\n",
        " 'data block',\n",
        " 'data manipulation',\n",
        " 'data transfer',\n",
        " 'database server',\n",
        " 'device',\n",
        " 'device configuration value',\n",
        " 'device state',\n",
        " 'device status parameter',\n",
        " 'distributed control system',\n",
        " 'dll file',\n",
        " 'document',\n",
        " 'domain name',\n",
        " 'driver file',\n",
        " 'dynamic-link library',\n",
        " 'electrical device',\n",
        " 'email message',\n",
        " 'error state',\n",
        " 'event log',\n",
        " 'executable command',\n",
        " 'executable file',\n",
        " 'exploit payload',\n",
        " 'exploit technique',\n",
        " 'facility',\n",
        " 'file',\n",
        " 'file type',\n",
        " 'file/script',\n",
        " 'firewall rule',\n",
        " 'firewall utility',\n",
        " 'firmware',\n",
        " 'frequency converter drive',\n",
        " 'function block memory location',\n",
        " 'hardware component',\n",
        " 'hex value',\n",
        " 'hmi device',\n",
        " 'host device',\n",
        " 'http request',\n",
        " 'ics address',\n",
        " 'ics application',\n",
        " 'ics command',\n",
        " 'ics command message',\n",
        " 'ics communication payload',\n",
        " 'ics communication protocol',\n",
        " 'ics configuration',\n",
        " 'ics configuration file',\n",
        " 'ics controller',\n",
        " 'ics data',\n",
        " 'ics data block recording',\n",
        " 'ics device',\n",
        " 'ics device parameter',\n",
        " 'ics field',\n",
        " 'ics function block',\n",
        " 'ics gateway',\n",
        " 'ics i/o snapshot',\n",
        " 'ics network communication',\n",
        " 'ics object',\n",
        " 'ics parameter',\n",
        " 'ics payload component',\n",
        " 'ics process data',\n",
        " 'ics project file',\n",
        " 'ics protocol',\n",
        " 'ics protocol field',\n",
        " 'ics protocol module',\n",
        " 'ics protocol parameter',\n",
        " 'ics protocol value',\n",
        " 'ics software module',\n",
        " 'ics systems',\n",
        " 'ics tag',\n",
        " 'identifier constant',\n",
        " 'impact condition',\n",
        " 'industrial communication protocol',\n",
        " 'industrial control device',\n",
        " 'industrial control module',\n",
        " 'industrial control system',\n",
        " 'industrial control system (ics) device',\n",
        " 'industrial control system device',\n",
        " 'industrial control system platform',\n",
        " 'industrial controller (cpu)',\n",
        " 'industrial network bus',\n",
        " 'integrity check routine',\n",
        " 'log files',\n",
        " 'malicious file',\n",
        " 'malicious ics function block',\n",
        " 'malicious logic',\n",
        " 'malicious software',\n",
        " 'malware',\n",
        " 'malware module',\n",
        " 'manufacturing facility',\n",
        " 'medical product',\n",
        " 'memory access pattern',\n",
        " 'memory access request',\n",
        " 'memory write attempt',\n",
        " 'module',\n",
        " 'monitor',\n",
        " 'network communication',\n",
        " 'network communication technique',\n",
        " 'network configuration',\n",
        " 'network connection',\n",
        " 'network data',\n",
        " 'network device',\n",
        " 'network entity',\n",
        " 'network identifier',\n",
        " 'network packet',\n",
        " 'network port',\n",
        " 'network protocol',\n",
        " 'network segment',\n",
        " 'network service',\n",
        " 'network service/port',\n",
        " 'network traffic',\n",
        " 'network traffic event',\n",
        " 'opc server',\n",
        " 'opc ua address space',\n",
        " 'opc ua server',\n",
        " 'operating system api',\n",
        " 'operational mode',\n",
        " 'os system call',\n",
        " 'packaging tool',\n",
        " 'payload file',\n",
        " 'plc',\n",
        " 'plc block',\n",
        " 'plc code',\n",
        " 'plc code component',\n",
        " 'plc cpu',\n",
        " 'plc data block',\n",
        " 'plc data block content (magic value)',\n",
        " 'plc device',\n",
        " 'plc function block',\n",
        " 'plc i/o image',\n",
        " 'plc operating system',\n",
        " 'plc organization block',\n",
        " 'plc program organization unit',\n",
        " 'plc runtime constraint',\n",
        " 'process',\n",
        " 'process name list',\n",
        " 'process termination',\n",
        " 'profibus communication module',\n",
        " 'program transfer operation',\n",
        " 'project file',\n",
        " 'protective relay',\n",
        " 'protocol',\n",
        " 'protocol field',\n",
        " 'protocol object data',\n",
        " 'protocol version',\n",
        " 'proxy server',\n",
        " 'python function call',\n",
        " 'registry key',\n",
        " 'remote access service',\n",
        " 'remote terminal unit',\n",
        " 'removable media',\n",
        " 'resource identifier',\n",
        " 'safety instrumented system',\n",
        " 'script',\n",
        " 'script engine/interpreter',\n",
        " 'script file',\n",
        " 'script framework',\n",
        " 'sensor reading',\n",
        " 'serial port',\n",
        " 'server',\n",
        " 'server information',\n",
        " 'service control',\n",
        " 'service/process',\n",
        " 'servo drive',\n",
        " 'shellcode',\n",
        " 'signature value',\n",
        " 'software/program',\n",
        " 'software/tool',\n",
        " 'software/tool (malware)',\n",
        " 'sql command',\n",
        " 'sql stored procedure',\n",
        " 'storage device',\n",
        " 'string',\n",
        " 'url',\n",
        " 'user account',\n",
        " 'variable state',\n",
        " 'vulnerability',\n",
        " 'vulnerability identifier',\n",
        " 'web script',\n",
        " 'windows registry key'])"
      ],
      "metadata": {
        "id": "y7LvUuSXzMyO"
      },
      "execution_count": 7,
      "outputs": []
    },
    {
      "cell_type": "code",
      "source": [
        "gross_classifications = set([\n",
        "\"System\",\n",
        "\"Module\",\n",
        "\"Hardware\",\n",
        "\"Device\",\n",
        "\"PLC\",\n",
        "\"POU\",\n",
        "\"Identifier\",\n",
        "\"Information\",\n",
        "\"Credential\",\n",
        "\"Data\",\n",
        "\"Command\",\n",
        "\"API\",\n",
        "\"Code\",\n",
        "\"Process\",\n",
        "\"Configuration\",\n",
        "\"Log\",\n",
        "\"File\",\n",
        "\"Payload\",\n",
        "\"Software\",\n",
        "\"Service\",\n",
        "\"Firmware\",\n",
        "\"Server\",\n",
        "\"Communication\",\n",
        "\"Protocol\",\n",
        "\"Protocol Field\",\n",
        "\"Connection Port\",\n",
        "\"Vulnerability\",\n",
        "\"Attack Technique\"])"
      ],
      "metadata": {
        "id": "1n3QQILtIjC0"
      },
      "execution_count": 8,
      "outputs": []
    },
    {
      "cell_type": "code",
      "source": [
        "prompt = f\"\"\"\n",
        "You are a cybersecurity analyst expert. Your job is to group a list of observable “classification” labels under gross classifications from MITRE ATT&CK® Enterprise, or if not matched to any existing gross classification - create a new category that matches the observable group.\n",
        "\n",
        "---\n",
        "### Input\n",
        "   - A set of unique observable classifications:\n",
        "     {sorted(unique_classifications)}\n",
        "\n",
        "   - A set of gross classifications from MITRE ATT&CK® Enterprise:\n",
        "     {sorted(gross_classifications)}\n",
        "\n",
        "---\n",
        "### Task\n",
        "   - For each unique observable classifications, choose exactly one gross classification it best fits.\n",
        "   - If it does not clearly belong to any of the gross classification labels given, assign it to a new category of your own choosing, appending “– new” to that category name (e.g. “Data Management – new”).\n",
        "\n",
        "---\n",
        "### Output\n",
        "   - Return **only** a single JSON object.\n",
        "   - Do **not** include any words outside of that JSON—no explanations, no commentary.\n",
        "   - Do **not** add free text; only JSON format.\n",
        "   - Each key must be either one of the 28 gross classification label names or one of your “– new” categories.\n",
        "   - Each value must be an array of the unique observable classifications assigned to that key.\n",
        "\n",
        "---\n",
        "### Response format)\n",
        "\n",
        "```json\n",
        "{{\n",
        "  \"Code\": [\n",
        "    \"script file\"\n",
        "  ],\n",
        "  \"Command\": [\n",
        "    \"command string\"\n",
        "  ],\n",
        "  \"Identifier\": [\n",
        "    \"ip address\",\n",
        "    \"domain\"\n",
        "  ],\n",
        "  \"Data\": [\n",
        "    \"file format\",\n",
        "    \"file signature\"\n",
        "  ]\n",
        "  ...\n",
        "}}\n",
        "\n",
        "##\n",
        "\n",
        "\"\"\""
      ],
      "metadata": {
        "id": "yhVtjRmUIk2l"
      },
      "execution_count": 20,
      "outputs": []
    },
    {
      "cell_type": "code",
      "source": [
        "# !pip install --upgrade openai\n"
      ],
      "metadata": {
        "id": "d3asVr8tImr3",
        "colab": {
          "base_uri": "https://localhost:8080/"
        },
        "outputId": "17a8fb56-d48f-4aa2-d22d-e153671c6182"
      },
      "execution_count": 10,
      "outputs": [
        {
          "output_type": "stream",
          "name": "stdout",
          "text": [
            "Requirement already satisfied: openai in /usr/local/lib/python3.11/dist-packages (1.81.0)\n",
            "Requirement already satisfied: anyio<5,>=3.5.0 in /usr/local/lib/python3.11/dist-packages (from openai) (4.9.0)\n",
            "Requirement already satisfied: distro<2,>=1.7.0 in /usr/local/lib/python3.11/dist-packages (from openai) (1.9.0)\n",
            "Requirement already satisfied: httpx<1,>=0.23.0 in /usr/local/lib/python3.11/dist-packages (from openai) (0.28.1)\n",
            "Requirement already satisfied: jiter<1,>=0.4.0 in /usr/local/lib/python3.11/dist-packages (from openai) (0.9.0)\n",
            "Requirement already satisfied: pydantic<3,>=1.9.0 in /usr/local/lib/python3.11/dist-packages (from openai) (2.11.4)\n",
            "Requirement already satisfied: sniffio in /usr/local/lib/python3.11/dist-packages (from openai) (1.3.1)\n",
            "Requirement already satisfied: tqdm>4 in /usr/local/lib/python3.11/dist-packages (from openai) (4.67.1)\n",
            "Requirement already satisfied: typing-extensions<5,>=4.11 in /usr/local/lib/python3.11/dist-packages (from openai) (4.13.2)\n",
            "Requirement already satisfied: idna>=2.8 in /usr/local/lib/python3.11/dist-packages (from anyio<5,>=3.5.0->openai) (3.10)\n",
            "Requirement already satisfied: certifi in /usr/local/lib/python3.11/dist-packages (from httpx<1,>=0.23.0->openai) (2025.4.26)\n",
            "Requirement already satisfied: httpcore==1.* in /usr/local/lib/python3.11/dist-packages (from httpx<1,>=0.23.0->openai) (1.0.9)\n",
            "Requirement already satisfied: h11>=0.16 in /usr/local/lib/python3.11/dist-packages (from httpcore==1.*->httpx<1,>=0.23.0->openai) (0.16.0)\n",
            "Requirement already satisfied: annotated-types>=0.6.0 in /usr/local/lib/python3.11/dist-packages (from pydantic<3,>=1.9.0->openai) (0.7.0)\n",
            "Requirement already satisfied: pydantic-core==2.33.2 in /usr/local/lib/python3.11/dist-packages (from pydantic<3,>=1.9.0->openai) (2.33.2)\n",
            "Requirement already satisfied: typing-inspection>=0.4.0 in /usr/local/lib/python3.11/dist-packages (from pydantic<3,>=1.9.0->openai) (0.4.0)\n"
          ]
        }
      ]
    },
    {
      "cell_type": "code",
      "source": [
        "import os\n",
        "from openai import OpenAI\n",
        "\n",
        "client = OpenAI(\n",
        "    api_key=os.environ[\"OPENAI_API_KEY\"],  # or however you load it\n",
        ")\n",
        "\n",
        "\n",
        "response = client.chat.completions.create(\n",
        "    model=\"o3-mini-2025-01-31\",          # ← swap in your desired model\n",
        "    messages=[\n",
        "        {\"role\": \"system\", \"content\": \"You are a helpful cybersecurity expert.\"},\n",
        "        {\"role\": \"user\",   \"content\": prompt},\n",
        "    ],\n",
        ")\n",
        "import json\n",
        "\n",
        "# Extract the raw JSON string from the assistant’s reply\n",
        "raw = response.choices[0].message.content\n",
        "\n",
        "\n"
      ],
      "metadata": {
        "id": "7q4vsN_vIoTY"
      },
      "execution_count": 25,
      "outputs": []
    },
    {
      "cell_type": "code",
      "source": [
        "raw"
      ],
      "metadata": {
        "id": "9-eTGROCQXuJ",
        "outputId": "98d73c2d-e212-417a-cf5b-b33cb2c93951",
        "colab": {
          "base_uri": "https://localhost:8080/",
          "height": 174
        }
      },
      "execution_count": 27,
      "outputs": [
        {
          "output_type": "execute_result",
          "data": {
            "text/plain": [
              "'```json\\n{\\n  \"API\": [\\n    \"api\",\\n    \"api call\",\\n    \"api command\",\\n    \"api function\",\\n    \"api hook\",\\n    \"api interface\",\\n    \"api method\",\\n    \"http cgi endpoint\",\\n    \"ics api\",\\n    \"opc ua endpoint\",\\n    \"operating system api\",\\n    \"system api\",\\n    \"windows api\",\\n    \"windows api call\",\\n    \"windows api function\"\\n  ],\\n  \"Attack Technique\": [\\n    \"attack campaign\",\\n    \"attack effect\",\\n    \"attack methodology\",\\n    \"attack pattern\",\\n    \"attack technique\",\\n    \"attack tool\",\\n    \"attack type\",\\n    \"attack variant\",\\n    \"attack vector\",\\n    \"backdoor\",\\n    \"code injection technique\",\\n    \"command and control\",\\n    \"command and control infrastructure\",\\n    \"downloader\",\\n    \"brute force activity\",\\n    \"exploit\",\\n    \"exploit kit\",\\n    \"exploit kit variant\",\\n    \"exploit technique\",\\n    \"malware backdoor\",\\n    \"malware campaign\",\\n    \"malware technique\",\\n    \"phishing attack\",\\n    \"phishing campaign\",\\n    \"ransomware campaign\",\\n    \"rdp attack\",\\n    \"intrusion technique\",\\n    \"process manipulation technique\",\\n    \"propagation method\",\\n    \"vulnerability exploit\",\\n    \"web compromise\",\\n    \"worm attack\",\\n    \"ttp\"\\n  ],\\n  \"Code\": [\\n    \"assembly code\",\\n    \"assembly code/disassembly\",\\n    \"assembly instruction\",\\n    \"autolisp code\",\\n    \"autolisp script\",\\n    \"batch script\",\\n    \"binary code snippet\",\\n    \"binary function\",\\n    \"c runtime function\",\\n    \"c struct definition\",\\n    \"code comment\",\\n    \"code function\",\\n    \"code modification\",\\n    \"code snippet\",\\n    \"code snippet (description)\",\\n    \"code snippet / log capture\",\\n    \"compiled python file\",\\n    \"constant\",\\n    \"core function\",\\n    \"decompiled code\",\\n    \"decompiled code snippet\",\\n    \"deobfuscated vba macro code\",\\n    \"executable code\",\\n    \"injected code\",\\n    \"instruction\",\\n    \"kernel structure\",\\n    \"lua script\",\\n    \"macro\",\\n    \"macro definition\",\\n    \"mathematical expression\",\\n    \"obfuscated assembly code snippet\",\\n    \"obfuscated vba macro code\",\\n    \"pseudocode\",\\n    \"python function call\",\\n    \"python script\",\\n    \"regex pattern\",\\n    \"script\",\\n    \"script code\",\\n    \"shellcode\",\\n    \"shellcode program\",\\n    \"source file\",\\n    \"sql script\",\\n    \"sql stored procedure\",\\n    \"xml source code\",\\n    \"vbscript code snippet\",\\n    \"vba macro function\",\\n    \"vbs script\"\\n  ],\\n  \"Command\": [\\n    \"batch command\",\\n    \"command\",\\n    \"command block\",\\n    \"command code\",\\n    \"command execution\",\\n    \"command line\",\\n    \"command line argument\",\\n    \"command line parameter\",\\n    \"command line pattern\",\\n    \"command message\",\\n    \"command parameter\",\\n    \"command parameters\",\\n    \"command sequence\",\\n    \"command string\",\\n    \"command table\",\\n    \"command value\",\\n    \"command-line\",\\n    \"command-line argument\",\\n    \"command-line parameter\",\\n    \"command-line switch\",\\n    \"command-line tool\",\\n    \"command/utility\",\\n    \"executable command\",\\n    \"implant subcommand (execute)\",\\n    \"implant subcommand (read memory)\",\\n    \"implant subcommand (write memory)\",\\n    \"kernel ioctl command\",\\n    \"operation command\",\\n    \"os system call\",\\n    \"python command\",\\n    \"remote execution command\",\\n    \"rtu command\",\\n    \"shell command\",\\n    \"subcommand (execute)\",\\n    \"subcommand (read memory)\",\\n    \"subcommand (write memory)\",\\n    \"ui command\"\\n  ],\\n  \"Communication\": [\\n    \"anomalous network connection\",\\n    \"anonymity network\",\\n    \"anonymizing network\",\\n    \"communication bus\",\\n    \"communication channel\",\\n    \"communication interface\",\\n    \"communications gateway\",\\n    \"http request\",\\n    \"network\",\\n    \"network activity\",\\n    \"network communication\",\\n    \"network connection\",\\n    \"remote access connection\",\\n    \"remote access protocol\",\\n    \"remote access service\",\\n    \"social media\",\\n    \"social media account\"\\n  ],\\n  \"Configuration\": [\\n    \"authentication mechanism\",\\n    \"backup parameter\",\\n    \"c&c configuration data\",\\n    \"c&c configuration key\",\\n    \"configuration\",\\n    \"configuration artifact\",\\n    \"configuration data\",\\n    \"configuration database\",\\n    \"configuration descriptor\",\\n    \"configuration directive\",\\n    \"configuration field\",\\n    \"configuration flag\",\\n    \"configuration hash\",\\n    \"configuration identifier\",\\n    \"configuration key\",\\n    \"configuration keys table\",\\n    \"configuration mapping\",\\n    \"configuration option\",\\n    \"configuration parameter\",\\n    \"configuration setting\",\\n    \"configuration table\",\\n    \"configuration template\",\\n    \"connection configuration\",\\n    \"connection parameter\",\\n    \"control parameter\",\\n    \"control system configuration\",\\n    \"device configuration value\",\\n    \"environment variable\",\\n    \"http filter\",\\n    \"ics configuration\",\\n    \"ics device parameter\",\\n    \"ics mode\",\\n    \"ics parameter\",\\n    \"installer configuration\",\\n    \"memory requirement\",\\n    \"processor configuration\",\\n    \"process configuration\",\\n    \"registry key\",\\n    \"registry key value\",\\n    \"registry modification\",\\n    \"registry subkey\",\\n    \"registry value\",\\n    \"system configuration\"\\n  ],\\n  \"Connection Port\": [\\n    \"com port\",\\n    \"communication port\",\\n    \"network port\",\\n    \"network port range\",\\n    \"port\",\\n    \"port range\",\\n    \"serial port\",\\n    \"udp port\"\\n  ],\\n  \"Credential\": [\\n    \"account\",\\n    \"authentication credential\",\\n    \"credential\",\\n    \"credential - password\",\\n    \"credential - username\",\\n    \"credential field\",\\n    \"credential list\",\\n    \"decrypted session private key\",\\n    \"default user account\",\\n    \"digital certificate\",\\n    \"email account\",\\n    \"social media account\",\\n    \"user account\",\\n    \"user credential placeholder\",\\n    \"username\",\\n    \"password\"\\n  ],\\n  \"Data\": [\\n    \"application data\",\\n    \"base64 encoded data\",\\n    \"base64 encoded fixed drive details\",\\n    \"binary dump\",\\n    \"binary string\",\\n    \"byte sequence\",\\n    \"data\",\\n    \"data block\",\\n    \"data manipulation\",\\n    \"data table\",\\n    \"data transfer\",\\n    \"decoded payload\",\\n    \"disassembly data\",\\n    \"hex string\",\\n    \"m-bus packet\",\\n    \"measurement reading\",\\n    \"network data\",\\n    \"network packet\",\\n    \"protocol data\",\\n    \"sensor reading\",\\n    \"string\",\\n    \"text string\",\\n    \"timestamp data dump\"\\n  ],\\n  \"Device\": [\\n    \"3g router\",\\n    \"client\",\\n    \"client cluster\",\\n    \"device\",\\n    \"device cluster\",\\n    \"device group\",\\n    \"device model\",\\n    \"hardware/device\",\\n    \"host device\",\\n    \"jump box\",\\n    \"network device\",\\n    \"network attached storage device\",\\n    \"network endpoint\",\\n    \"network interface\",\\n    \"peripheral device\",\\n    \"router model\",\\n    \"sensor device\",\\n    \"usb device\",\\n    \"windows device\",\\n    \"workstation\"\\n  ],\\n  \"File\": [\\n    \"archive\",\\n    \"archive file\",\\n    \"batch file\",\\n    \"compiled python file\",\\n    \"configuration file\",\\n    \"configuration file content\",\\n    \"dll file\",\\n    \"document\",\\n    \"document filename\",\\n    \"file\",\\n    \"file (driver)\",\\n    \"file artifact\",\\n    \"file attachment\",\\n    \"file content\",\\n    \"file deletion activity\",\\n    \"file extension\",\\n    \"file extension list\",\\n    \"file extension pattern\",\\n    \"file extensions table\",\\n    \"file format\",\\n    \"file format/archive\",\\n    \"file hash\",\\n    \"file hash (md5)\",\\n    \"file hash (sha-256)\",\\n    \"file hash (sha1)\",\\n    \"file hash (sha256)\",\\n    \"file hash table\",\\n    \"file header\",\\n    \"file header structure\",\\n    \"file list\",\\n    \"file marker\",\\n    \"file metadata / encrypted file structure\",\\n    \"file modification\",\\n    \"file name\",\\n    \"file name hash\",\\n    \"file naming pattern\",\\n    \"file path\",\\n    \"file path - physical drive\",\\n    \"file path/directory\",\\n    \"file share\",\\n    \"file system listing\",\\n    \"file table\",\\n    \"file transfer\",\\n    \"file transfer activity\",\\n    \"file/script\",\\n    \"filename\",\\n    \"filename mask\",\\n    \"filename mask list\",\\n    \"filesystem component\",\\n    \"database file\",\\n    \"dll filename\",\\n    \"downloaded file\",\\n    \"dynamic link library\",\\n    \"dynamic link library (dll)\",\\n    \"dynamic-link library\",\\n    \"cookie policy document\",\\n    \"embedded resource\",\\n    \"executable\",\\n    \"executable file\",\\n    \"executable filename\",\\n    \"executable format\",\\n    \"executable header\",\\n    \"executable resource dump\",\\n    \"file (driver)\",\\n    \"ic s configuration file\",\\n    \"ics configuration file\",\\n    \"ics project file\",\\n    \"log file\",\\n    \"log file content\",\\n    \"map file\",\\n    \"mof file\",\\n    \"pdf attachment\",\\n    \"plugin file\",\\n    \"project file\",\\n    \"registry artifact\",\\n    \"registry hive\",\\n    \"source file\",\\n    \"stix file\",\\n    \"stix report\",\\n    \"temporary file\",\\n    \"text file\",\\n    \"vmmap table\",\\n    \"wallet screenshot\",\\n    \"windows driver file\",\\n    \"windows executable\",\\n    \"yara rule document\",\\n    \"zip archive\"\\n  ],\\n  \"Firmware\": [\\n    \"firmware\",\\n    \"firmware memory region\",\\n    \"firmware update identifier\",\\n    \"firmware version\",\\n    \"firmware/operating system\"\\n  ],\\n  \"Hardware\": [\\n    \"circuit breaker\",\\n    \"cpu architecture\",\\n    \"cpu information\",\\n    \"cpu model\",\\n    \"cpu register\",\\n    \"hardware\",\\n    \"hardware component\",\\n    \"hardware destruction\",\\n    \"hardware identifier\",\\n    \"hardware interface\",\\n    \"hardware module\",\\n    \"hardware/property\",\\n    \"hardware/network device\",\\n    \"frequency converter drive\",\\n    \"gas centrifuge\",\\n    \"industrial ethernet switch\",\\n    \"nuclear centrifuge\"\\n  ],\\n  \"Identifier\": [\\n    \"advisory id\",\\n    \"advisory identifier\",\\n    \"advisory reference\",\\n    \"affiliate id\",\\n    \"alert code\",\\n    \"alert identifier\",\\n    \"attacker public key\",\\n    \"backdoor command id\",\\n    \"build id\",\\n    \"build identifier (base64 encoded)\",\\n    \"campaign name\",\\n    \"category identifier\",\\n    \"certificate fingerprint\",\\n    \"certificate issuer\",\\n    \"checksum\",\\n    \"cloudflare ray id\",\\n    \"c&c identifier\",\\n    \"c2 url example\",\\n    \"c2 url pattern\",\\n    \"campaign phase\",\\n    \"centrifuge model\",\\n    \"crc32 hash (cpuid)\",\\n    \"cti reference id\",\\n    \"cti report id\",\\n    \"cti tag\",\\n    \"cti table\",\\n    \"cve identifier\",\\n    \"digital signer\",\\n    \"domain\",\\n    \"domain fragment\",\\n    \"domain name\",\\n    \"driver file\",\\n    \"drive letter\",\\n    \"drive letters range\",\\n    \"export function ordinal\",\\n    \"export table\",\\n    \"exported function\",\\n    \"exported function name\",\\n    \"flag identifier\",\\n    \"folder name\",\\n    \"frame delimiter\",\\n    \"generic placeholder (cn parameter)\",\\n    \"generic placeholder (nm parameter)\",\\n    \"generic placeholder (num parameter)\",\\n    \"hard-coded version value\",\\n    \"hardcoded encryption key\",\\n    \"hardcoded id\",\\n    \"hardware identifier\",\\n    \"interface identifier\",\\n    \"interface label\",\\n    \"ips rule id\",\\n    \"ip address\",\\n    \"ip address placeholder\",\\n    \"ip address range (geographic)\",\\n    \"ip subnet\",\\n    \"ipv4 address\",\\n    \"ipv4 cidr\",\\n    \"ipv4-addr\",\\n    \"m-bus slave identifier\",\\n    \"mac address\",\\n    \"magic key\",\\n    \"magic number (compression signature)\",\\n    \"magic number (ppmd compression)\",\\n    \"module name\",\\n    \"module/export function name\",\\n    \"opc enumeration token\",\\n    \"opc group\",\\n    \"opc item name filter\",\\n    \"opc ua nodeid\",\\n    \"opcode pattern\",\\n    \"operational function id\",\\n    \"organization\",\\n    \"os handler\",\\n    \"part number\",\\n    \"password hash\",\\n    \"patch identifier\",\\n    \"pe section name\",\\n    \"pgp key\",\\n    \"phone number\",\\n    \"physical address\",\\n    \"placeholder\",\\n    \"process header\",\\n    \"process id\",\\n    \"process name\",\\n    \"process name list\",\\n    \"product code\",\\n    \"product feature code\",\\n    \"product identifier\",\\n    \"registry encryption key\",\\n    \"registry value name\",\\n    \"resource identifier\",\\n    \"response code\",\\n    \"return address\",\\n    \"rsa exponent\",\\n    \"rsa public key\",\\n    \"service display name\",\\n    \"service name\",\\n    \"session identifier\",\\n    \"sfs storage key\",\\n    \"sha-1\",\\n    \"sha-1 hash\",\\n    \"sha-256 hash\",\\n    \"sha1\",\\n    \"sha1 file hash\",\\n    \"sha1 hash\",\\n    \"sha256\",\\n    \"sha256 hash\",\\n    \"signature value\",\\n    \"snort rule id\",\\n    \"social media handle\",\\n    \"software tool version\",\\n    \"stack offset\",\\n    \"target\",\\n    \"template variable\",\\n    \"thread attribute\",\\n    \"thread/role name\",\\n    \"timestamp\",\\n    \"tool description table\",\\n    \"tor address\",\\n    \"trickbot gtag\",\\n    \"twitter handle\",\\n    \"uid\",\\n    \"unique identifier\",\\n    \"uri subpath\",\\n    \"url\",\\n    \"url fragment\",\\n    \"url parameter\",\\n    \"url parameter value\",\\n    \"url parameter: bid\",\\n    \"url parameter: dpv\",\\n    \"url parameter: dv\",\\n    \"url parameter: id\",\\n    \"url parameter: mv\",\\n    \"url path\",\\n    \"url suffix\",\\n    \"us-cert alert id\",\\n    \"vad tag\",\\n    \"valve identifier\",\\n    \"variable name\",\\n    \"vendor\",\\n    \"vendor advisory id\",\\n    \"version string\",\\n    \"version tag\",\\n    \"video id\",\\n    \"weakness identifier\",\\n    \"window class\",\\n    \"window name\",\\n    \"windows security event id\",\\n    \"xor key\",\\n    \"yara rule\",\\n    \"yara signature\",\\n    \"yara string\"\\n  ],\\n  \"Information\": [\\n    \"advisory\",\\n    \"advisory document\",\\n    \"campaign operation\",\\n    \"chemical agent\",\\n    \"chemical compound\",\\n    \"chemical substance\",\\n    \"client cluster\",\\n    \"compatibility fix\",\\n    \"compliance framework\",\\n    \"compromised website table\",\\n    \"concept\",\\n    \"cookie policy document\",\\n    \"critical infrastructure\",\\n    \"cti project\",\\n    \"cti topic\",\\n    \"cyber threat report\",\\n    \"digital certificate\",\\n    \"documentation\",\\n    \"educational content\",\\n    \"email subject\",\\n    \"encoded payload\",\\n    \"encoding\",\\n    \"encoding format\",\\n    \"encryption specification\",\\n    \"error code anomaly\",\\n    \"error state\",\\n    \"event\",\\n    \"ew s system\",\\n    \"impact\",\\n    \"impact condition\",\\n    \"impacted technology table\",\\n    \"incident\",\\n    \"indicator\",\\n    \"indicators report\",\\n    \"individual / gru officer\",\\n    \"industrial control standard\",\\n    \"industrial control system (ics) product\",\\n    \"industrial control system design\",\\n    \"industrial control systems operations\",\\n    \"industrial control systems technology table\",\\n    \"industrial facility\",\\n    \"industrial indicator\",\\n    \"industry sector\",\\n    \"infrastructure\",\\n    \"installation key\",\\n    \"integrity check routine\",\\n    \"log entry\",\\n    \"operational mode\",\\n    \"operational system\",\\n    \"operational technology\",\\n    \"organization unit\",\\n    \"organizational unit\",\\n    \"output state\",\\n    \"pe header build info\",\\n    \"persistent memory specification\",\\n    \"physical phenomenon\",\\n    \"platform capability\",\\n    \"process measurement\",\\n    \"product\",\\n    \"product organization unit\",\\n    \"program organization unit\",\\n    \"program structure description\",\\n    \"research title\",\\n    \"rotor speed\",\\n    \"safety procedure\",\\n    \"safety standard\",\\n    \"sample identifier\",\\n    \"stix report\",\\n    \"table: exploit kit parameters\",\\n    \"table: file names\",\\n    \"technology\",\\n    \"threat intelligence term\",\\n    \"timestamp data dump\",\\n    \"tool description table\",\\n    \"traffic light protocol\",\\n    \"ui area\",\\n    \"ui element\",\\n    \"unknown\",\\n    \"url generation template\",\\n    \"username\", \\n    \"vmmap table\",\\n    \"vulnerability bulletin\",\\n    \"vulnerability classification\",\\n    \"vulnerability description\",\\n    \"vulnerability metric\",\\n    \"vulnerability score\",\\n    \"website\",\\n    \"work product\"\\n  ],\\n  \"Log\": [\\n    \"audit record\",\\n    \"authentication event\",\\n    \"error message\",\\n    \"event log\",\\n    \"http log capture\",\\n    \"log header\",\\n    \"log files\",\\n    \"registry table capture\",\\n    \"table/log capture\",\\n    \"windows registry table capture\",\\n    \"malware event\",\\n    \"network traffic event\",\\n    \"log entry\"\\n  ],\\n  \"Module\": [\\n    \"dll component\",\\n    \"ics component\",\\n    \"ics protocol module\",\\n    \"ics software module\",\\n    \"loader executable\",\\n    \"logging module\",\\n    \"module\",\\n    \"module loader\",\\n    \"python module\",\\n    \"software component\",\\n    \"software module\",\\n    \"profibus communication module\",\\n    \"program organization block\"\\n  ],\\n  \"PLC\": [\\n    \"function block\",\\n    \"ics controller\",\\n    \"ics device (plc)\",\\n    \"plc\",\\n    \"plc attribute\",\\n    \"plc block\",\\n    \"plc bytecode\",\\n    \"plc code\",\\n    \"plc code component\",\\n    \"plc code snippet\",\\n    \"plc command\",\\n    \"plc controller\",\\n    \"plc cpu\",\\n    \"plc data block\",\\n    \"plc data block content (magic value)\",\\n    \"plc data blocks\",\\n    \"plc device\",\\n    \"plc event code\",\\n    \"plc function\",\\n    \"plc function block\",\\n    \"plc i/o image\",\\n    \"plc log message\",\\n    \"plc model\",\\n    \"plc program\",\\n    \"plc program component\",\\n    \"plc program identifier\",\\n    \"plc tag\",\\n    \"plc vendor\",\\n    \"programmable logic controller\",\\n    \"programmable logic controller (plc)\"\\n  ],\\n  \"POU\": [\\n    \"system pou\"\\n  ],\\n  \"Payload\": [\\n    \"base64 encoded payload\",\\n    \"decoded payload\",\\n    \"encoded payload\",\\n    \"exploit payload\",\\n    \"hybrid malware payload\",\\n    \"magic packet payload\",\\n    \"malware payload\",\\n    \"shellcode payload\"\\n  ],\\n  \"Process\": [\\n    \"activity\",\\n    \"executable behavior\",\\n    \"industrial process\",\\n    \"industrial process component\",\\n    \"integrity check routine\",\\n    \"memory access pattern\",\\n    \"memory access request\",\\n    \"process\",\\n    \"process anomaly\",\\n    \"process boundary\",\\n    \"process list\",\\n    \"process procedure\",\\n    \"process termination\",\\n    \"process/executable\"\\n  ],\\n  \"Protocol\": [\\n    \"authentication protocol\",\\n    \"communication protocol\",\\n    \"device management protocol\",\\n    \"email authentication protocol\",\\n    \"ics communication protocol\",\\n    \"ics protocol\",\\n    \"industrial communication protocol\",\\n    \"industrial protocol\",\\n    \"network protocol\",\\n    \"opc ua server\",\\n    \"protocol\",\\n    \"protocol standard\",\\n    \"remote access protocol\",\\n    \"rpc named-pipe protocol\",\\n    \"serial communication protocol\"\\n  ],\\n  \"Protocol Field\": [\\n    \"http header\",\\n    \"http headers\",\\n    \"http status line\",\\n    \"ics protocol field\",\\n    \"ics protocol message\",\\n    \"ics protocol message structure\",\\n    \"protocol element\",\\n    \"protocol field\"\\n  ],\\n  \"Server\": [\\n    \"c&c server\",\\n    \"c2 server\",\\n    \"command and control server\",\\n    \"database server\",\\n    \"embedded web server\",\\n    \"ics server\",\\n    \"ics/scada server\",\\n    \"opc server\",\\n    \"proxy server\",\\n    \"web server\"\\n  ],\\n  \"Service\": [\\n    \"cloud service\",\\n    \"email service\",\\n    \"ics service\",\\n    \"online payment platform\",\\n    \"proxy service\",\\n    \"remote access service\",\\n    \"security service\",\\n    \"web service\",\\n    \"website/service\"\\n  ],\\n  \"Software\": [\\n    \"application\",\\n    \"banking malware\",\\n    \"compression library\",\\n    \"compromised software\",\\n    \"database/software vendor\",\\n    \"diff tool\",\\n    \"firewall utility\",\\n    \"financial application\",\\n    \"ics application\",\\n    \"ics malware\",\\n    \"ics software\",\\n    \"malicious binary\",\\n    \"malicious code\",\\n    \"malicious dll\",\\n    \"malicious document\",\\n    \"malicious excel file\",\\n    \"malicious executable\",\\n    \"malicious file\",\\n    \"malicious ics function block\",\\n    \"malicious logic\",\\n    \"malicious module\",\\n    \"malicious payload binary\",\\n    \"malicious software\",\\n    \"malicious string\",\\n    \"malware\",\\n    \"os handler\",\\n    \"phishing service\",\\n    \"reconnaissance tool\",\\n    \"script framework\",\\n    \"security product\",\\n    \"software\",\\n    \"software application\",\\n    \"software design pattern\",\\n    \"software framework\",\\n    \"software library\",\\n    \"software/program\",\\n    \"software/tool\",\\n    \"software/application\",\\n    \"source file\"\\n  ],\\n  \"System\": [\\n    \"backup system\",\\n    \"cyber-physical system\",\\n    \"ews system\",\\n    \"emergency shutdown system\",\\n    \"host\",\\n    \"industrial control system\",\\n    \"industrial control system (ics) device\",\\n    \"industrial control system equipment\",\\n    \"ics control system\",\\n    \"ics system\",\\n    \"ics systems\",\\n    \"protection system\",\\n    \"safety instrumentated system\",\\n    \"safety instrumented system\",\\n    \"scada system\",\\n    \"security system\",\\n    \"security system console\"\\n  ],\\n  \"Vulnerability\": [\\n    \"vulnerability\"\\n  ],\\n  \"Access Control – new\": [\\n    \"access control\",\\n    \"access control mechanism\"\\n  ],\\n  \"Access Mode – new\": [\\n    \"access mode\"\\n  ],\\n  \"Access Protection – new\": [\\n    \"access protection table\"\\n  ],\\n  \"Access Solution – new\": [\\n    \"access solution\"\\n  ],\\n  \"Access Vector – new\": [\\n    \"access vector\"\\n  ],\\n  \"Timestamp – new\": [\\n    \"activation timestamp\"\\n  ],\\n  \"Affiliate Program – new\": [\\n    \"affiliate program\"\\n  ],\\n  \"Ambiguous Text – new\": [\\n    \"ambiguous text\"\\n  ],\\n  \"Authentication Technique – new\": [\\n    \"authentication technique\"\\n  ],\\n  \"AV Detection – new\": [\\n    \"av detection table\"\\n  ],\\n  \"Malware – new\": [\\n    \"banking malware\",\\n    \"ics malware\",\\n    \"malicious binary\",\\n    \"malicious code\",\\n    \"malicious dll\",\\n    \"malicious document\",\\n    \"malicious excel file\",\\n    \"malicious executable\",\\n    \"malicious file\",\\n    \"malicious ics function block\",\\n    \"malicious logic\",\\n    \"malicious module\",\\n    \"malicious payload binary\",\\n    \"malicious software\",\\n    \"malicious string\",\\n    \"malware\",\\n    \"malware alias\",\\n    \"malware analysis report\",\\n    \"malware backdoor\",\\n    \"malware beacon identifier\",\\n    \"malware behavior\",\\n    \"malware binary\",\\n    \"malware build id\",\\n    \"malware capability\",\\n    \"malware code pattern\",\\n    \"malware code snippet\",\\n    \"malware command\",\\n    \"malware command block\",\\n    \"malware component\",\\n    \"malware configuration parameter\",\\n    \"malware configuration table\",\\n    \"malware database identifier\",\\n    \"malware decryptor\",\\n    \"malware detection name\",\\n    \"malware detection signature\",\\n    \"malware driver\",\\n    \"malware dropper\",\\n    \"malware event\",\\n    \"malware family\",\\n    \"malware family alias\",\\n    \"malware family name\",\\n    \"malware file\",\\n    \"malware file component table\",\\n    \"malware framework\",\\n    \"malware identifier\",\\n    \"malware implant\",\\n    \"malware marker\",\\n    \"malware module\",\\n    \"malware module / attack type\",\\n    \"malware name\",\\n    \"malware packer\",\\n    \"malware parameter\",\\n    \"malware payload\",\\n    \"malware plugin\",\\n    \"malware process\",\\n    \"malware program\",\\n    \"malware routine\",\\n    \"malware sample\",\\n    \"malware signature\",\\n    \"malware string\",\\n    \"malware string patterns\",\\n    \"malware tool\",\\n    \"malware toolkit\",\\n    \"malware variant\",\\n    \"malware version\",\\n    \"malware/attack framework\",\\n    \"malware/attack name\",\\n    \"malware/ransomware\",\\n    \"malware/threat actor\",\\n    \"malware/tool\",\\n    \"malware/worm\",\\n    \"phishing sample\",\\n    \"ransom note\",\\n    \"ransomware\",\\n    \"ransomware binary\",\\n    \"ransomware family\",\\n    \"ransomware group\",\\n    \"ransomware source code\",\\n    \"ransomware tool\",\\n    \"ransomware ui form\",\\n    \"ransomware-as-a-service campaign\",\\n    \"rootkit\",\\n    \"trojan\",\\n    \"worm\",\\n    \"worm cycle time\"\\n  ],\\n  \"Indicator – new\": [\\n    \"behavior indicator\",\\n    \"indicator\",\\n    \"indicator of compromise\",\\n    \"indicator string\",\\n    \"indicator substring\",\\n    \"ransom note indicator\",\\n    \"threat indicator\",\\n    \"string indicator\"\\n  ],\\n  \"Tool – new\": [\\n    \"binary packer\",\\n    \"enumeration tool\",\\n    \"port scanner\",\\n    \"port scanner command\",\\n    \"post-exploitation framework\",\\n    \"tool\"\\n  ],\\n  \"Compression Algorithm – new\": [\\n    \"compression algorithm\"\\n  ],\\n  \"Fieldbus Standard – new\": [\\n    \"fieldbus standard\"\\n  ],\\n  \"Industrial Cabling – new\": [\\n    \"industrial cabling\"\\n  ],\\n  \"Industrial Communication Standard – new\": [\\n    \"industrial communication standard\"\\n  ],\\n  \"Industrial Connectivity Software – new\": [\\n    \"industrial connectivity software\"\\n  ],\\n  \"Industrial Control Component - Valve – new\": [\\n    \"industrial control component - valve\"\\n  ],\\n  \"Industrial Control Interface – new\": [\\n    \"industrial control interface\"\\n  ],\\n  \"Industrial Protocol Traffic Anomaly – new\": [\\n    \"industrial protocol traffic anomaly\"\\n  ],\\n  \"Industrial Protection Relay – new\": [\\n    \"industrial protection relay\"\\n  ],\\n  \"Industrial Piping – new\": [\\n    \"industrial piping\"\\n  ],\\n  \"Industrial Power Supply – new\": [\\n    \"industrial power supply\"\\n  ],\\n  \"Attack Technique – new\": [\\n    \"infection vector\"\\n  ],\\n  \"Injection Table – new\": [\\n    \"injection table\"\\n  ],\\n  \"IPC Mechanism – new\": [\\n    \"ipc mechanism\"\\n  ],\\n  \"Keyboard Layout – new\": [\\n    \"keyboard layout\"\\n  ],\\n  \"Leak Parameter – new\": [\\n    \"leak parameter\"\\n  ],\\n  \"Process Measurement – new\": [\\n    \"process measurement\"\\n  ],\\n  \"Service Control – new\": [\\n    \"service control\"\\n  ],\\n  \"Software/Tool (Compiler) – new\": [\\n    \"software/tool (compiler)\"\\n  ],\\n  \"Software/Tool (Malware) – new\": [\\n    \"software/tool (malware)\"\\n  ],\\n  \"Security Advisory – new\": [\\n    \"security advisory\",\\n    \"security advisory id\",\\n    \"security advisory reference\"\\n  ],\\n  \"Security Bulletin – new\": [\\n    \"security bulletin\",\\n    \"security bulletin identifier\",\\n    \"security bulletin internal reference\"\\n  ],\\n  \"Security Control – new\": [\\n    \"security control\"\\n  ],\\n  \"Security Feature – new\": [\\n    \"security feature\"\\n  ],\\n  \"Security Management – new\": [\\n    \"security management\"\\n  ],\\n  \"Security Measure – new\": [\\n    \"security measure\"\\n  ],\\n  \"Software/Update – new\": [\\n    \"software update\",\\n    \"software update system\"\\n  ],\\n  \"Windows Utility – new\": [\\n    \"windows utility\"\\n  ],\\n  \"SIEM – new\": [\\n    \"siem\",\\n    \"siem product\"\\n  ],\\n  \"Industrial Control System Platform – new\": [\\n    \"industrial control system platform\"\\n  ],\\n  \"Threat Actor – new\": [\\n    \"apt group\",\\n    \"threat actor\",\\n    \"threat actor group\",\\n    \"threat group\"\\n  ],\\n  \"Network Communication Technique – new\": [\\n    \"network communication technique\"\\n  ],\\n  \"Network Interface Specification – new\": [\\n    \"network interface specification\"\\n  ],\\n  \"Network Protocol Artifact – new\": [\\n    \"network protocol artifact\"\\n  ],\\n  \"Network Scanning Activity – new\": [\\n    \"network scanning activity\"\\n  ],\\n  \"Operational Technology – new\": [\\n    \"operational technology\"\\n  ],\\n  \"Registry Keys/WMI Query – new\": [\\n    \"registry keys / wmi query\"\\n  ],\\n  \"Registry Values – new\": [\\n    \"registry values\"\\n  ],\\n  \"Software/Feature – new\": [\\n    \"software/feature\"\\n  ],\\n  \"Threat Campaign – new\": [\\n    \"threat campaign\"\\n  ],\\n  \"Threat Framework – new\": [\\n    \"threat framework\"\\n  ],\\n  \"Tool Description Table – new\": [\\n    \"tool description table\"\\n  ],\\n  \"User Interface/Configuration Page – new\": [\\n    \"user interface/configuration page\"\\n  ],\\n  \"Windows Management Instrumentation – new\": [\\n    \"windows management instrumentation\"\\n  ]\\n}\\n```'"
            ],
            "application/vnd.google.colaboratory.intrinsic+json": {
              "type": "string"
            }
          },
          "metadata": {},
          "execution_count": 27
        }
      ]
    },
    {
      "cell_type": "code",
      "source": [
        "# data = json.loads(raw)\n",
        "\n",
        "# # Write out only the JSON payload\n",
        "# with open(\"response.json\", \"w\", encoding=\"utf-8\") as f:\n",
        "#     json.dump(data, f, indent=2, ensure_ascii=False)\n",
        "\n",
        "# print(\"✅ JSON content saved to response.json\")"
      ],
      "metadata": {
        "id": "ccKVpONCP5ln",
        "outputId": "236f2c8b-3ecc-4dc9-824b-8017166bfbb3",
        "colab": {
          "base_uri": "https://localhost:8080/",
          "height": 339
        }
      },
      "execution_count": 28,
      "outputs": [
        {
          "output_type": "error",
          "ename": "JSONDecodeError",
          "evalue": "Expecting value: line 1 column 1 (char 0)",
          "traceback": [
            "\u001b[0;31m---------------------------------------------------------------------------\u001b[0m",
            "\u001b[0;31mJSONDecodeError\u001b[0m                           Traceback (most recent call last)",
            "\u001b[0;32m<ipython-input-28-14569e5b934f>\u001b[0m in \u001b[0;36m<cell line: 0>\u001b[0;34m()\u001b[0m\n\u001b[0;32m----> 1\u001b[0;31m \u001b[0mdata\u001b[0m \u001b[0;34m=\u001b[0m \u001b[0mjson\u001b[0m\u001b[0;34m.\u001b[0m\u001b[0mloads\u001b[0m\u001b[0;34m(\u001b[0m\u001b[0mraw\u001b[0m\u001b[0;34m)\u001b[0m\u001b[0;34m\u001b[0m\u001b[0;34m\u001b[0m\u001b[0m\n\u001b[0m\u001b[1;32m      2\u001b[0m \u001b[0;34m\u001b[0m\u001b[0m\n\u001b[1;32m      3\u001b[0m \u001b[0;31m# Write out only the JSON payload\u001b[0m\u001b[0;34m\u001b[0m\u001b[0;34m\u001b[0m\u001b[0m\n\u001b[1;32m      4\u001b[0m \u001b[0;32mwith\u001b[0m \u001b[0mopen\u001b[0m\u001b[0;34m(\u001b[0m\u001b[0;34m\"response.json\"\u001b[0m\u001b[0;34m,\u001b[0m \u001b[0;34m\"w\"\u001b[0m\u001b[0;34m,\u001b[0m \u001b[0mencoding\u001b[0m\u001b[0;34m=\u001b[0m\u001b[0;34m\"utf-8\"\u001b[0m\u001b[0;34m)\u001b[0m \u001b[0;32mas\u001b[0m \u001b[0mf\u001b[0m\u001b[0;34m:\u001b[0m\u001b[0;34m\u001b[0m\u001b[0;34m\u001b[0m\u001b[0m\n\u001b[1;32m      5\u001b[0m     \u001b[0mjson\u001b[0m\u001b[0;34m.\u001b[0m\u001b[0mdump\u001b[0m\u001b[0;34m(\u001b[0m\u001b[0mdata\u001b[0m\u001b[0;34m,\u001b[0m \u001b[0mf\u001b[0m\u001b[0;34m,\u001b[0m \u001b[0mindent\u001b[0m\u001b[0;34m=\u001b[0m\u001b[0;36m2\u001b[0m\u001b[0;34m,\u001b[0m \u001b[0mensure_ascii\u001b[0m\u001b[0;34m=\u001b[0m\u001b[0;32mFalse\u001b[0m\u001b[0;34m)\u001b[0m\u001b[0;34m\u001b[0m\u001b[0;34m\u001b[0m\u001b[0m\n",
            "\u001b[0;32m/usr/lib/python3.11/json/__init__.py\u001b[0m in \u001b[0;36mloads\u001b[0;34m(s, cls, object_hook, parse_float, parse_int, parse_constant, object_pairs_hook, **kw)\u001b[0m\n\u001b[1;32m    344\u001b[0m             \u001b[0mparse_int\u001b[0m \u001b[0;32mis\u001b[0m \u001b[0;32mNone\u001b[0m \u001b[0;32mand\u001b[0m \u001b[0mparse_float\u001b[0m \u001b[0;32mis\u001b[0m \u001b[0;32mNone\u001b[0m \u001b[0;32mand\u001b[0m\u001b[0;34m\u001b[0m\u001b[0;34m\u001b[0m\u001b[0m\n\u001b[1;32m    345\u001b[0m             parse_constant is None and object_pairs_hook is None and not kw):\n\u001b[0;32m--> 346\u001b[0;31m         \u001b[0;32mreturn\u001b[0m \u001b[0m_default_decoder\u001b[0m\u001b[0;34m.\u001b[0m\u001b[0mdecode\u001b[0m\u001b[0;34m(\u001b[0m\u001b[0ms\u001b[0m\u001b[0;34m)\u001b[0m\u001b[0;34m\u001b[0m\u001b[0;34m\u001b[0m\u001b[0m\n\u001b[0m\u001b[1;32m    347\u001b[0m     \u001b[0;32mif\u001b[0m \u001b[0mcls\u001b[0m \u001b[0;32mis\u001b[0m \u001b[0;32mNone\u001b[0m\u001b[0;34m:\u001b[0m\u001b[0;34m\u001b[0m\u001b[0;34m\u001b[0m\u001b[0m\n\u001b[1;32m    348\u001b[0m         \u001b[0mcls\u001b[0m \u001b[0;34m=\u001b[0m \u001b[0mJSONDecoder\u001b[0m\u001b[0;34m\u001b[0m\u001b[0;34m\u001b[0m\u001b[0m\n",
            "\u001b[0;32m/usr/lib/python3.11/json/decoder.py\u001b[0m in \u001b[0;36mdecode\u001b[0;34m(self, s, _w)\u001b[0m\n\u001b[1;32m    335\u001b[0m \u001b[0;34m\u001b[0m\u001b[0m\n\u001b[1;32m    336\u001b[0m         \"\"\"\n\u001b[0;32m--> 337\u001b[0;31m         \u001b[0mobj\u001b[0m\u001b[0;34m,\u001b[0m \u001b[0mend\u001b[0m \u001b[0;34m=\u001b[0m \u001b[0mself\u001b[0m\u001b[0;34m.\u001b[0m\u001b[0mraw_decode\u001b[0m\u001b[0;34m(\u001b[0m\u001b[0ms\u001b[0m\u001b[0;34m,\u001b[0m \u001b[0midx\u001b[0m\u001b[0;34m=\u001b[0m\u001b[0m_w\u001b[0m\u001b[0;34m(\u001b[0m\u001b[0ms\u001b[0m\u001b[0;34m,\u001b[0m \u001b[0;36m0\u001b[0m\u001b[0;34m)\u001b[0m\u001b[0;34m.\u001b[0m\u001b[0mend\u001b[0m\u001b[0;34m(\u001b[0m\u001b[0;34m)\u001b[0m\u001b[0;34m)\u001b[0m\u001b[0;34m\u001b[0m\u001b[0;34m\u001b[0m\u001b[0m\n\u001b[0m\u001b[1;32m    338\u001b[0m         \u001b[0mend\u001b[0m \u001b[0;34m=\u001b[0m \u001b[0m_w\u001b[0m\u001b[0;34m(\u001b[0m\u001b[0ms\u001b[0m\u001b[0;34m,\u001b[0m \u001b[0mend\u001b[0m\u001b[0;34m)\u001b[0m\u001b[0;34m.\u001b[0m\u001b[0mend\u001b[0m\u001b[0;34m(\u001b[0m\u001b[0;34m)\u001b[0m\u001b[0;34m\u001b[0m\u001b[0;34m\u001b[0m\u001b[0m\n\u001b[1;32m    339\u001b[0m         \u001b[0;32mif\u001b[0m \u001b[0mend\u001b[0m \u001b[0;34m!=\u001b[0m \u001b[0mlen\u001b[0m\u001b[0;34m(\u001b[0m\u001b[0ms\u001b[0m\u001b[0;34m)\u001b[0m\u001b[0;34m:\u001b[0m\u001b[0;34m\u001b[0m\u001b[0;34m\u001b[0m\u001b[0m\n",
            "\u001b[0;32m/usr/lib/python3.11/json/decoder.py\u001b[0m in \u001b[0;36mraw_decode\u001b[0;34m(self, s, idx)\u001b[0m\n\u001b[1;32m    353\u001b[0m             \u001b[0mobj\u001b[0m\u001b[0;34m,\u001b[0m \u001b[0mend\u001b[0m \u001b[0;34m=\u001b[0m \u001b[0mself\u001b[0m\u001b[0;34m.\u001b[0m\u001b[0mscan_once\u001b[0m\u001b[0;34m(\u001b[0m\u001b[0ms\u001b[0m\u001b[0;34m,\u001b[0m \u001b[0midx\u001b[0m\u001b[0;34m)\u001b[0m\u001b[0;34m\u001b[0m\u001b[0;34m\u001b[0m\u001b[0m\n\u001b[1;32m    354\u001b[0m         \u001b[0;32mexcept\u001b[0m \u001b[0mStopIteration\u001b[0m \u001b[0;32mas\u001b[0m \u001b[0merr\u001b[0m\u001b[0;34m:\u001b[0m\u001b[0;34m\u001b[0m\u001b[0;34m\u001b[0m\u001b[0m\n\u001b[0;32m--> 355\u001b[0;31m             \u001b[0;32mraise\u001b[0m \u001b[0mJSONDecodeError\u001b[0m\u001b[0;34m(\u001b[0m\u001b[0;34m\"Expecting value\"\u001b[0m\u001b[0;34m,\u001b[0m \u001b[0ms\u001b[0m\u001b[0;34m,\u001b[0m \u001b[0merr\u001b[0m\u001b[0;34m.\u001b[0m\u001b[0mvalue\u001b[0m\u001b[0;34m)\u001b[0m \u001b[0;32mfrom\u001b[0m \u001b[0;32mNone\u001b[0m\u001b[0;34m\u001b[0m\u001b[0;34m\u001b[0m\u001b[0m\n\u001b[0m\u001b[1;32m    356\u001b[0m         \u001b[0;32mreturn\u001b[0m \u001b[0mobj\u001b[0m\u001b[0;34m,\u001b[0m \u001b[0mend\u001b[0m\u001b[0;34m\u001b[0m\u001b[0;34m\u001b[0m\u001b[0m\n",
            "\u001b[0;31mJSONDecodeError\u001b[0m: Expecting value: line 1 column 1 (char 0)"
          ]
        }
      ]
    },
    {
      "cell_type": "markdown",
      "source": [
        "Convert csv table into json object in order to compare between observables"
      ],
      "metadata": {
        "id": "FHjcQxkLDOG2"
      }
    },
    {
      "cell_type": "code",
      "source": [
        "import pandas as pd\n",
        "from google.colab import files\n",
        "import json\n",
        "\n",
        "# 1) Load your CSV\n",
        "csv_path = \"/content/updated_Procedure_descriptions_observables_using_o3_mini_prompt_with_deprecation.csv\"\n",
        "df = pd.read_csv(csv_path)\n",
        "\n",
        "# 2) Rename your column\n",
        "df = df.rename(columns={\"classification\": \"fine_classification\"})\n",
        "\n",
        "# 3) Define exactly the columns you want (including the new ones)\n",
        "wanted = [\n",
        "    \"observable_value\",\n",
        "    \"artifact_details\",\n",
        "    \"data_source\",\n",
        "    \"fine_classification\",\n",
        "    \"notes\",\n",
        "    \"description\",\n",
        "    \"STIX_supported\",\n",
        "    \"proprietary_artifact\",\n",
        "    \"parser\",\n",
        "]\n",
        "\n",
        "# 4) Reindex to pull in those cols, filling missing with None\n",
        "df = df.reindex(columns=wanted, fill_value=None)\n",
        "\n",
        "# --- Added step: Remove duplicates based on 'observable_value' ---\n",
        "# This ensures that when 'observable_value' is set as the index, it is unique.\n",
        "# 'keep='first'' keeps the first occurrence of each duplicate value.\n",
        "df = df.drop_duplicates(subset=['observable_value'], keep='first')\n",
        "print(\"Duplicate 'observable_value' entries removed (keeping first occurrence).\")\n",
        "# --- End of added step ---\n",
        "\n",
        "\n",
        "# 5) Export as a JSON object keyed by observable_value\n",
        "# This will now work without error because the index is unique.\n",
        "df.set_index(\"observable_value\") \\\n",
        "  .to_json(\n",
        "     \"observables_by_value.json\",\n",
        "     orient=\"index\",\n",
        "     indent=2,\n",
        "     force_ascii=False\n",
        "  )\n",
        "\n",
        "# 6) Download the result\n",
        "files.download(\"observables_by_value.json\")\n",
        "\n",
        "print(f\"JSON saved to observables_by_value.json\")"
      ],
      "metadata": {
        "id": "TBgl6ml96vLz",
        "outputId": "7317f3f6-3619-4b8a-9030-2456045b19e5",
        "colab": {
          "base_uri": "https://localhost:8080/",
          "height": 52
        }
      },
      "execution_count": 31,
      "outputs": [
        {
          "output_type": "stream",
          "name": "stdout",
          "text": [
            "Duplicate 'observable_value' entries removed (keeping first occurrence).\n"
          ]
        },
        {
          "output_type": "display_data",
          "data": {
            "text/plain": [
              "<IPython.core.display.Javascript object>"
            ],
            "application/javascript": [
              "\n",
              "    async function download(id, filename, size) {\n",
              "      if (!google.colab.kernel.accessAllowed) {\n",
              "        return;\n",
              "      }\n",
              "      const div = document.createElement('div');\n",
              "      const label = document.createElement('label');\n",
              "      label.textContent = `Downloading \"${filename}\": `;\n",
              "      div.appendChild(label);\n",
              "      const progress = document.createElement('progress');\n",
              "      progress.max = size;\n",
              "      div.appendChild(progress);\n",
              "      document.body.appendChild(div);\n",
              "\n",
              "      const buffers = [];\n",
              "      let downloaded = 0;\n",
              "\n",
              "      const channel = await google.colab.kernel.comms.open(id);\n",
              "      // Send a message to notify the kernel that we're ready.\n",
              "      channel.send({})\n",
              "\n",
              "      for await (const message of channel.messages) {\n",
              "        // Send a message to notify the kernel that we're ready.\n",
              "        channel.send({})\n",
              "        if (message.buffers) {\n",
              "          for (const buffer of message.buffers) {\n",
              "            buffers.push(buffer);\n",
              "            downloaded += buffer.byteLength;\n",
              "            progress.value = downloaded;\n",
              "          }\n",
              "        }\n",
              "      }\n",
              "      const blob = new Blob(buffers, {type: 'application/binary'});\n",
              "      const a = document.createElement('a');\n",
              "      a.href = window.URL.createObjectURL(blob);\n",
              "      a.download = filename;\n",
              "      div.appendChild(a);\n",
              "      a.click();\n",
              "      div.remove();\n",
              "    }\n",
              "  "
            ]
          },
          "metadata": {}
        },
        {
          "output_type": "display_data",
          "data": {
            "text/plain": [
              "<IPython.core.display.Javascript object>"
            ],
            "application/javascript": [
              "download(\"download_59279f41-8165-4245-8a43-8a510db70e47\", \"observables_by_value.json\", 325145)"
            ]
          },
          "metadata": {}
        },
        {
          "output_type": "stream",
          "name": "stdout",
          "text": [
            "JSON saved to observables_by_value.json\n"
          ]
        }
      ]
    },
    {
      "cell_type": "code",
      "source": [],
      "metadata": {
        "id": "OpeV259AEkvb"
      },
      "execution_count": null,
      "outputs": []
    }
  ]
}