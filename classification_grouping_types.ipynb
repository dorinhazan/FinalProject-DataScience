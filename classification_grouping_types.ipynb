{
  "nbformat": 4,
  "nbformat_minor": 0,
  "metadata": {
    "colab": {
      "provenance": [],
      "authorship_tag": "ABX9TyM1mvl0Er9rHB0ABqbzJbHS",
      "include_colab_link": true
    },
    "kernelspec": {
      "name": "python3",
      "display_name": "Python 3"
    },
    "language_info": {
      "name": "python"
    }
  },
  "cells": [
    {
      "cell_type": "markdown",
      "metadata": {
        "id": "view-in-github",
        "colab_type": "text"
      },
      "source": [
        "<a href=\"https://colab.research.google.com/github/dorinhazan/FinalProject-DataScience/blob/main/classification_grouping_types.ipynb\" target=\"_parent\"><img src=\"https://colab.research.google.com/assets/colab-badge.svg\" alt=\"Open In Colab\"/></a>"
      ]
    },
    {
      "cell_type": "code",
      "source": [
        "import openai\n",
        "import zipfile\n",
        "import json\n",
        "import os\n",
        "import json"
      ],
      "metadata": {
        "id": "dsdIkZocIcwQ"
      },
      "execution_count": 4,
      "outputs": []
    },
    {
      "cell_type": "code",
      "execution_count": 2,
      "metadata": {
        "id": "aX3QUVycYhLZ",
        "outputId": "a456267e-6b04-478f-a00b-01b0708f9bfc",
        "colab": {
          "base_uri": "https://localhost:8080/"
        }
      },
      "outputs": [
        {
          "output_type": "stream",
          "name": "stdout",
          "text": [
            "Requirement already satisfied: openai in /usr/local/lib/python3.11/dist-packages (1.78.1)\n",
            "Requirement already satisfied: anyio<5,>=3.5.0 in /usr/local/lib/python3.11/dist-packages (from openai) (4.9.0)\n",
            "Requirement already satisfied: distro<2,>=1.7.0 in /usr/local/lib/python3.11/dist-packages (from openai) (1.9.0)\n",
            "Requirement already satisfied: httpx<1,>=0.23.0 in /usr/local/lib/python3.11/dist-packages (from openai) (0.28.1)\n",
            "Requirement already satisfied: jiter<1,>=0.4.0 in /usr/local/lib/python3.11/dist-packages (from openai) (0.9.0)\n",
            "Requirement already satisfied: pydantic<3,>=1.9.0 in /usr/local/lib/python3.11/dist-packages (from openai) (2.11.4)\n",
            "Requirement already satisfied: sniffio in /usr/local/lib/python3.11/dist-packages (from openai) (1.3.1)\n",
            "Requirement already satisfied: tqdm>4 in /usr/local/lib/python3.11/dist-packages (from openai) (4.67.1)\n",
            "Requirement already satisfied: typing-extensions<5,>=4.11 in /usr/local/lib/python3.11/dist-packages (from openai) (4.13.2)\n",
            "Requirement already satisfied: idna>=2.8 in /usr/local/lib/python3.11/dist-packages (from anyio<5,>=3.5.0->openai) (3.10)\n",
            "Requirement already satisfied: certifi in /usr/local/lib/python3.11/dist-packages (from httpx<1,>=0.23.0->openai) (2025.4.26)\n",
            "Requirement already satisfied: httpcore==1.* in /usr/local/lib/python3.11/dist-packages (from httpx<1,>=0.23.0->openai) (1.0.9)\n",
            "Requirement already satisfied: h11>=0.16 in /usr/local/lib/python3.11/dist-packages (from httpcore==1.*->httpx<1,>=0.23.0->openai) (0.16.0)\n",
            "Requirement already satisfied: annotated-types>=0.6.0 in /usr/local/lib/python3.11/dist-packages (from pydantic<3,>=1.9.0->openai) (0.7.0)\n",
            "Requirement already satisfied: pydantic-core==2.33.2 in /usr/local/lib/python3.11/dist-packages (from pydantic<3,>=1.9.0->openai) (2.33.2)\n",
            "Requirement already satisfied: typing-inspection>=0.4.0 in /usr/local/lib/python3.11/dist-packages (from pydantic<3,>=1.9.0->openai) (0.4.0)\n"
          ]
        }
      ],
      "source": [
        "!pip install openai"
      ]
    },
    {
      "cell_type": "code",
      "source": [
        "!pip install --upgrade openai"
      ],
      "metadata": {
        "id": "p2HnWNG9IXAe",
        "outputId": "08bae357-c09a-4737-ed5f-b67c6f2e4ed9",
        "colab": {
          "base_uri": "https://localhost:8080/"
        }
      },
      "execution_count": 3,
      "outputs": [
        {
          "output_type": "stream",
          "name": "stdout",
          "text": [
            "Requirement already satisfied: openai in /usr/local/lib/python3.11/dist-packages (1.78.1)\n",
            "Collecting openai\n",
            "  Downloading openai-1.81.0-py3-none-any.whl.metadata (25 kB)\n",
            "Requirement already satisfied: anyio<5,>=3.5.0 in /usr/local/lib/python3.11/dist-packages (from openai) (4.9.0)\n",
            "Requirement already satisfied: distro<2,>=1.7.0 in /usr/local/lib/python3.11/dist-packages (from openai) (1.9.0)\n",
            "Requirement already satisfied: httpx<1,>=0.23.0 in /usr/local/lib/python3.11/dist-packages (from openai) (0.28.1)\n",
            "Requirement already satisfied: jiter<1,>=0.4.0 in /usr/local/lib/python3.11/dist-packages (from openai) (0.9.0)\n",
            "Requirement already satisfied: pydantic<3,>=1.9.0 in /usr/local/lib/python3.11/dist-packages (from openai) (2.11.4)\n",
            "Requirement already satisfied: sniffio in /usr/local/lib/python3.11/dist-packages (from openai) (1.3.1)\n",
            "Requirement already satisfied: tqdm>4 in /usr/local/lib/python3.11/dist-packages (from openai) (4.67.1)\n",
            "Requirement already satisfied: typing-extensions<5,>=4.11 in /usr/local/lib/python3.11/dist-packages (from openai) (4.13.2)\n",
            "Requirement already satisfied: idna>=2.8 in /usr/local/lib/python3.11/dist-packages (from anyio<5,>=3.5.0->openai) (3.10)\n",
            "Requirement already satisfied: certifi in /usr/local/lib/python3.11/dist-packages (from httpx<1,>=0.23.0->openai) (2025.4.26)\n",
            "Requirement already satisfied: httpcore==1.* in /usr/local/lib/python3.11/dist-packages (from httpx<1,>=0.23.0->openai) (1.0.9)\n",
            "Requirement already satisfied: h11>=0.16 in /usr/local/lib/python3.11/dist-packages (from httpcore==1.*->httpx<1,>=0.23.0->openai) (0.16.0)\n",
            "Requirement already satisfied: annotated-types>=0.6.0 in /usr/local/lib/python3.11/dist-packages (from pydantic<3,>=1.9.0->openai) (0.7.0)\n",
            "Requirement already satisfied: pydantic-core==2.33.2 in /usr/local/lib/python3.11/dist-packages (from pydantic<3,>=1.9.0->openai) (2.33.2)\n",
            "Requirement already satisfied: typing-inspection>=0.4.0 in /usr/local/lib/python3.11/dist-packages (from pydantic<3,>=1.9.0->openai) (0.4.0)\n",
            "Downloading openai-1.81.0-py3-none-any.whl (717 kB)\n",
            "\u001b[2K   \u001b[90m━━━━━━━━━━━━━━━━━━━━━━━━━━━━━━━━━━━━━━━━\u001b[0m \u001b[32m717.5/717.5 kB\u001b[0m \u001b[31m10.3 MB/s\u001b[0m eta \u001b[36m0:00:00\u001b[0m\n",
            "\u001b[?25hInstalling collected packages: openai\n",
            "  Attempting uninstall: openai\n",
            "    Found existing installation: openai 1.78.1\n",
            "    Uninstalling openai-1.78.1:\n",
            "      Successfully uninstalled openai-1.78.1\n",
            "Successfully installed openai-1.81.0\n"
          ]
        }
      ]
    },
    {
      "cell_type": "code",
      "source": [
        "openai.api_key = \"\""
      ],
      "metadata": {
        "id": "CkYIhUcEIbN4"
      },
      "execution_count": null,
      "outputs": []
    },
    {
      "cell_type": "code",
      "source": [
        "merged_ranking_path = \"merged_ranking.txt\"\n",
        "ranking_res_zip = \"/content/ranking_results.zip\"\n",
        "\n",
        "with zipfile.ZipFile(ranking_res_zip, 'r') as z, open(merged_ranking_path, 'w', encoding='utf-8') as out:\n",
        "    for info in z.infolist():\n",
        "        if info.filename.endswith('.txt'):\n",
        "            out.write(f\"===== {info.filename} =====\\n\")\n",
        "            with z.open(info) as f:\n",
        "                for raw in f:\n",
        "                    out.write(raw.decode('utf-8', errors='replace'))\n",
        "            out.write(\"\\n\\n\")\n",
        "\n",
        "print(f\"Done — all .txt merged into `{merged_ranking_path}`\")\n"
      ],
      "metadata": {
        "id": "5Vlc-kLBY2D2",
        "outputId": "4fe96870-4c2a-41f2-8533-b0b4bdc0c97e",
        "colab": {
          "base_uri": "https://localhost:8080/"
        }
      },
      "execution_count": null,
      "outputs": [
        {
          "output_type": "stream",
          "name": "stdout",
          "text": [
            "Done — all .txt merged into `merged_ranking.txt`\n"
          ]
        }
      ]
    },
    {
      "cell_type": "code",
      "source": [
        "# 1. Update these paths\n",
        "obs_res_zip        = '/content/json_results.zip'\n",
        "extract_dir     = '/content/extracted_jsons/json_results'\n",
        "merged_json_path = 'merged_obs_extraction.json'\n",
        "\n",
        "# 2. Extract JSON files\n",
        "with zipfile.ZipFile(obs_res_zip, 'r') as zf:\n",
        "    zf.extractall(extract_dir)\n",
        "\n",
        "# 3. Merge into one dictionary, extending duplicates’ observables\n",
        "merged = {}\n",
        "for filename in os.listdir(extract_dir):\n",
        "    # only process .json files\n",
        "    if not filename.lower().endswith('.json'):\n",
        "        continue\n",
        "\n",
        "    full_path = os.path.join(extract_dir, filename)\n",
        "    with open(full_path, 'r') as f:\n",
        "        data = json.load(f)\n",
        "\n",
        "    for md_name, doc in data.items():\n",
        "        if md_name not in merged:\n",
        "            merged[md_name] = doc\n",
        "        else:\n",
        "            # extend observables list from both\n",
        "            merged[md_name][\"observables\"].extend(doc.get(\"observables\", []))\n",
        "            # you can merge other fields here if needed\n",
        "\n",
        "# 4. Save the merged JSON\n",
        "with open(merged_json_path, 'w') as f:\n",
        "    json.dump(merged, f, indent=2)"
      ],
      "metadata": {
        "id": "c1sBAQkEIf1x"
      },
      "execution_count": null,
      "outputs": []
    },
    {
      "cell_type": "code",
      "source": [
        "# Suppose your file was named “data.json”\n",
        "with open('merged_obs_extraction.json','r') as f:\n",
        "    merged_obs_extraction = json.load(f)\n"
      ],
      "metadata": {
        "id": "SUQRxhyCz4DE"
      },
      "execution_count": 8,
      "outputs": []
    },
    {
      "cell_type": "code",
      "source": [
        "# Extract, lowercase, and dedupe classification values\n",
        "unique_classifications = {\n",
        "    obs['classification'].lower()\n",
        "    for doc in merged_obs_extraction.values()\n",
        "    for obs in doc.get('observables', [])\n",
        "    if 'classification' in obs\n",
        "}"
      ],
      "metadata": {
        "id": "lX-6rcQ3IgXz"
      },
      "execution_count": 9,
      "outputs": []
    },
    {
      "cell_type": "code",
      "source": [
        "unique_classifications.update(['api',\n",
        " 'api call',\n",
        " 'api function',\n",
        " 'api hook',\n",
        " 'archive file',\n",
        " 'attack effect',\n",
        " 'attack technique',\n",
        " 'authentication credential',\n",
        " 'authentication technique',\n",
        " 'boot record',\n",
        " 'c2 server',\n",
        " 'circuit breaker',\n",
        " 'code snippet',\n",
        " 'command',\n",
        " 'command line argument',\n",
        " 'command message',\n",
        " 'command parameters',\n",
        " 'command sequence',\n",
        " 'command value',\n",
        " 'command/utility',\n",
        " 'communication channel',\n",
        " 'communication interface',\n",
        " 'communication port',\n",
        " 'communication priority level',\n",
        " 'communication protocol',\n",
        " 'config/data file',\n",
        " 'configuration data',\n",
        " 'configuration file',\n",
        " 'configuration parameter',\n",
        " 'credential',\n",
        " 'credential list',\n",
        " 'data',\n",
        " 'data block',\n",
        " 'data manipulation',\n",
        " 'data transfer',\n",
        " 'database server',\n",
        " 'device',\n",
        " 'device configuration value',\n",
        " 'device state',\n",
        " 'device status parameter',\n",
        " 'distributed control system',\n",
        " 'dll file',\n",
        " 'document',\n",
        " 'domain name',\n",
        " 'driver file',\n",
        " 'dynamic-link library',\n",
        " 'electrical device',\n",
        " 'email message',\n",
        " 'error state',\n",
        " 'event log',\n",
        " 'executable command',\n",
        " 'executable file',\n",
        " 'exploit payload',\n",
        " 'exploit technique',\n",
        " 'facility',\n",
        " 'file',\n",
        " 'file type',\n",
        " 'file/script',\n",
        " 'firewall rule',\n",
        " 'firewall utility',\n",
        " 'firmware',\n",
        " 'frequency converter drive',\n",
        " 'function block memory location',\n",
        " 'hardware component',\n",
        " 'hex value',\n",
        " 'hmi device',\n",
        " 'host device',\n",
        " 'http request',\n",
        " 'ics address',\n",
        " 'ics application',\n",
        " 'ics command',\n",
        " 'ics command message',\n",
        " 'ics communication payload',\n",
        " 'ics communication protocol',\n",
        " 'ics configuration',\n",
        " 'ics configuration file',\n",
        " 'ics controller',\n",
        " 'ics data',\n",
        " 'ics data block recording',\n",
        " 'ics device',\n",
        " 'ics device parameter',\n",
        " 'ics field',\n",
        " 'ics function block',\n",
        " 'ics gateway',\n",
        " 'ics i/o snapshot',\n",
        " 'ics network communication',\n",
        " 'ics object',\n",
        " 'ics parameter',\n",
        " 'ics payload component',\n",
        " 'ics process data',\n",
        " 'ics project file',\n",
        " 'ics protocol',\n",
        " 'ics protocol field',\n",
        " 'ics protocol module',\n",
        " 'ics protocol parameter',\n",
        " 'ics protocol value',\n",
        " 'ics software module',\n",
        " 'ics systems',\n",
        " 'ics tag',\n",
        " 'identifier constant',\n",
        " 'impact condition',\n",
        " 'industrial communication protocol',\n",
        " 'industrial control device',\n",
        " 'industrial control module',\n",
        " 'industrial control system',\n",
        " 'industrial control system (ics) device',\n",
        " 'industrial control system device',\n",
        " 'industrial control system platform',\n",
        " 'industrial controller (cpu)',\n",
        " 'industrial network bus',\n",
        " 'integrity check routine',\n",
        " 'log files',\n",
        " 'malicious file',\n",
        " 'malicious ics function block',\n",
        " 'malicious logic',\n",
        " 'malicious software',\n",
        " 'malware',\n",
        " 'malware module',\n",
        " 'manufacturing facility',\n",
        " 'medical product',\n",
        " 'memory access pattern',\n",
        " 'memory access request',\n",
        " 'memory write attempt',\n",
        " 'module',\n",
        " 'monitor',\n",
        " 'network communication',\n",
        " 'network communication technique',\n",
        " 'network configuration',\n",
        " 'network connection',\n",
        " 'network data',\n",
        " 'network device',\n",
        " 'network entity',\n",
        " 'network identifier',\n",
        " 'network packet',\n",
        " 'network port',\n",
        " 'network protocol',\n",
        " 'network segment',\n",
        " 'network service',\n",
        " 'network service/port',\n",
        " 'network traffic',\n",
        " 'network traffic event',\n",
        " 'opc server',\n",
        " 'opc ua address space',\n",
        " 'opc ua server',\n",
        " 'operating system api',\n",
        " 'operational mode',\n",
        " 'os system call',\n",
        " 'packaging tool',\n",
        " 'payload file',\n",
        " 'plc',\n",
        " 'plc block',\n",
        " 'plc code',\n",
        " 'plc code component',\n",
        " 'plc cpu',\n",
        " 'plc data block',\n",
        " 'plc data block content (magic value)',\n",
        " 'plc device',\n",
        " 'plc function block',\n",
        " 'plc i/o image',\n",
        " 'plc operating system',\n",
        " 'plc organization block',\n",
        " 'plc program organization unit',\n",
        " 'plc runtime constraint',\n",
        " 'process',\n",
        " 'process name list',\n",
        " 'process termination',\n",
        " 'profibus communication module',\n",
        " 'program transfer operation',\n",
        " 'project file',\n",
        " 'protective relay',\n",
        " 'protocol',\n",
        " 'protocol field',\n",
        " 'protocol object data',\n",
        " 'protocol version',\n",
        " 'proxy server',\n",
        " 'python function call',\n",
        " 'registry key',\n",
        " 'remote access service',\n",
        " 'remote terminal unit',\n",
        " 'removable media',\n",
        " 'resource identifier',\n",
        " 'safety instrumented system',\n",
        " 'script',\n",
        " 'script engine/interpreter',\n",
        " 'script file',\n",
        " 'script framework',\n",
        " 'sensor reading',\n",
        " 'serial port',\n",
        " 'server',\n",
        " 'server information',\n",
        " 'service control',\n",
        " 'service/process',\n",
        " 'servo drive',\n",
        " 'shellcode',\n",
        " 'signature value',\n",
        " 'software/program',\n",
        " 'software/tool',\n",
        " 'software/tool (malware)',\n",
        " 'sql command',\n",
        " 'sql stored procedure',\n",
        " 'storage device',\n",
        " 'string',\n",
        " 'url',\n",
        " 'user account',\n",
        " 'variable state',\n",
        " 'vulnerability',\n",
        " 'vulnerability identifier',\n",
        " 'web script',\n",
        " 'windows registry key'])"
      ],
      "metadata": {
        "id": "y7LvUuSXzMyO"
      },
      "execution_count": 17,
      "outputs": []
    },
    {
      "cell_type": "code",
      "source": [
        "gross_classifications = set([\n",
        "\"System\",\n",
        "\"Module\",\n",
        "\"Hardware\",\n",
        "\"Device\",\n",
        "\"PLC\",\n",
        "\"POU\",\n",
        "\"Identifier\",\n",
        "\"Information\",\n",
        "\"Credential\",\n",
        "\"Data\",\n",
        "\"Command\",\n",
        "\"API\",\n",
        "\"Code\",\n",
        "\"Process\",\n",
        "\"Configuration\",\n",
        "\"Log\",\n",
        "\"File\",\n",
        "\"Payload\",\n",
        "\"Software\",\n",
        "\"Service\",\n",
        "\"Firmware\",\n",
        "\"Server\",\n",
        "\"Communication\",\n",
        "\"Protocol\",\n",
        "\"Protocol Field\",\n",
        "\"Connection Port\",\n",
        "\"Vulnerability\",\n",
        "\"Attack Technique\"])"
      ],
      "metadata": {
        "id": "1n3QQILtIjC0"
      },
      "execution_count": 16,
      "outputs": []
    },
    {
      "cell_type": "code",
      "source": [
        "prompt = f\"\"\"\n",
        "You are a cybersecurity analyst expert. Your job is to group a list of observable “classification” labels under gross classifications from MITRE ATT&CK® Enterprise, or if not matched to any gross classification - create a new category of gross classification.\n",
        "\n",
        "---\n",
        "### Input\n",
        "   - A set of unique observable classifications:\n",
        "     {sorted(unique_classifications)}\n",
        "\n",
        "   - A set of gross classifications from MITRE ATT&CK® Enterprise:\n",
        "     {sorted(gross_classifications)}\n",
        "\n",
        "---\n",
        "### Task\n",
        "   - For each unique observable classifications, choose exactly one gross classification it best fits.\n",
        "   - If it does not clearly belong to any of the gross classification labels given, assign it to a new category of your own choosing, appending “– new” to that category name (e.g. “Data Management – new”).\n",
        "\n",
        "---\n",
        "### Output\n",
        "   - Return **only** a single JSON object.\n",
        "   - Each key must be either one of the 28 gross classification label names or one of your “– new” categories.\n",
        "   - Each value must be an array of the unique observable classifications assigned to that key.\n",
        "\n",
        "---\n",
        "### Response format (return *only* this JSON)\n",
        "\n",
        "```json\n",
        "{\n",
        "  \"Code\": [\n",
        "    \"script file\"\n",
        "  ],\n",
        "  \"Command\": [\n",
        "    \"command string\"\n",
        "  ],\n",
        "  \"Identifier\": [\n",
        "    \"ip address\",\n",
        "    \"domain\"\n",
        "  ],\n",
        "  \"Data\": [\n",
        "    \"file format\",\n",
        "    \"file signature\"\n",
        "  ]\n",
        "}\n",
        "\n",
        "\"\"\""
      ],
      "metadata": {
        "id": "yhVtjRmUIk2l"
      },
      "execution_count": null,
      "outputs": []
    },
    {
      "cell_type": "code",
      "source": [
        "!pip install openai==0.28"
      ],
      "metadata": {
        "id": "d3asVr8tImr3"
      },
      "execution_count": null,
      "outputs": []
    },
    {
      "cell_type": "code",
      "source": [
        "# 4. Call ChatGPT with model o3-mini-high\n",
        "response = openai.ChatCompletion.create(\n",
        "    model=\"o3-mini-2025-01-31\",\n",
        "    messages=[\n",
        "        {\"role\": \"system\", \"content\": \"You are a helpful cybersecurity expert.\"},\n",
        "        {\"role\": \"user\", \"content\": prompt}\n",
        "    ],\n",
        ")\n",
        "\n",
        "# 5. Print the JSON response\n",
        "print(response.choices[0].message.content)"
      ],
      "metadata": {
        "id": "7q4vsN_vIoTY"
      },
      "execution_count": null,
      "outputs": []
    }
  ]
}